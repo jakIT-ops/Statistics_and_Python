{
 "cells": [
  {
   "cell_type": "markdown",
   "metadata": {
    "id": "XFUbcMqukVPu"
   },
   "source": [
    "# 1 Нэг хэмжээст дата"
   ]
  },
  {
   "cell_type": "code",
   "execution_count": 23,
   "metadata": {
    "ExecuteTime": {
     "end_time": "2018-08-14T06:43:30.149227Z",
     "start_time": "2018-08-14T06:43:29.960007Z"
    },
    "executionInfo": {
     "elapsed": 499,
     "status": "ok",
     "timestamp": 1647582575961,
     "user": {
      "displayName": "jawhaa bayr",
      "photoUrl": "https://lh3.googleusercontent.com/a-/AOh14Ghfu39tJLyqapTyoJfac89DfPyCM-MlAeqWT5qHiQ=s64",
      "userId": "02874887376874250256"
     },
     "user_tz": -480
    },
    "id": "muwCni-3kVP2"
   },
   "outputs": [],
   "source": [
    "import numpy as np\n",
    "import pandas as pd\n",
    "#jupyter Notebook дээр бутархайн эхний 3 оронго хэвлэнэ\n",
    "%precision 3\n",
    "#DataFrame дээр бутархайн эхний 3 оронг хэвлэнэ\n",
    "pd.set_option('precision', 3)"
   ]
  },
  {
   "cell_type": "code",
   "execution_count": 17,
   "metadata": {
    "ExecuteTime": {
     "end_time": "2018-08-14T06:43:30.160598Z",
     "start_time": "2018-08-14T06:43:30.150458Z"
    },
    "colab": {
     "base_uri": "https://localhost:8080/",
     "height": 238
    },
    "executionInfo": {
     "elapsed": 392,
     "status": "ok",
     "timestamp": 1647582725967,
     "user": {
      "displayName": "jawhaa bayr",
      "photoUrl": "https://lh3.googleusercontent.com/a-/AOh14Ghfu39tJLyqapTyoJfac89DfPyCM-MlAeqWT5qHiQ=s64",
      "userId": "02874887376874250256"
     },
     "user_tz": -480
    },
    "id": "sOa7tILDkVP4",
    "outputId": "58d4902c-8c6b-4144-a267-1ef95cd91f0d",
    "scrolled": true
   },
   "outputs": [
    {
     "data": {
      "text/html": [
       "<div>\n",
       "<style scoped>\n",
       "    .dataframe tbody tr th:only-of-type {\n",
       "        vertical-align: middle;\n",
       "    }\n",
       "\n",
       "    .dataframe tbody tr th {\n",
       "        vertical-align: top;\n",
       "    }\n",
       "\n",
       "    .dataframe thead th {\n",
       "        text-align: right;\n",
       "    }\n",
       "</style>\n",
       "<table border=\"1\" class=\"dataframe\">\n",
       "  <thead>\n",
       "    <tr style=\"text-align: right;\">\n",
       "      <th></th>\n",
       "      <th>english</th>\n",
       "      <th>mathematics</th>\n",
       "    </tr>\n",
       "    <tr>\n",
       "      <th>student number</th>\n",
       "      <th></th>\n",
       "      <th></th>\n",
       "    </tr>\n",
       "  </thead>\n",
       "  <tbody>\n",
       "    <tr>\n",
       "      <th>1</th>\n",
       "      <td>42</td>\n",
       "      <td>65</td>\n",
       "    </tr>\n",
       "    <tr>\n",
       "      <th>2</th>\n",
       "      <td>69</td>\n",
       "      <td>80</td>\n",
       "    </tr>\n",
       "    <tr>\n",
       "      <th>3</th>\n",
       "      <td>56</td>\n",
       "      <td>63</td>\n",
       "    </tr>\n",
       "    <tr>\n",
       "      <th>4</th>\n",
       "      <td>41</td>\n",
       "      <td>63</td>\n",
       "    </tr>\n",
       "    <tr>\n",
       "      <th>5</th>\n",
       "      <td>57</td>\n",
       "      <td>76</td>\n",
       "    </tr>\n",
       "  </tbody>\n",
       "</table>\n",
       "</div>"
      ],
      "text/plain": [
       "                english  mathematics\n",
       "student number                      \n",
       "1                    42           65\n",
       "2                    69           80\n",
       "3                    56           63\n",
       "4                    41           63\n",
       "5                    57           76"
      ]
     },
     "execution_count": 17,
     "metadata": {},
     "output_type": "execute_result"
    }
   ],
   "source": [
    "df = pd.read_csv('./data/ch2_scores_em.csv', index_col='student number')\n",
    "df.head()"
   ]
  },
  {
   "cell_type": "markdown",
   "metadata": {
    "id": "0X1IwWEfkVP6"
   },
   "source": [
    "Нэг сурагчид нэг 1 дүн оногдох нэг хэмжээст дата\n",
    "\n",
    "нэгт: томёог Python хэлээр кодлох\n",
    "\n",
    "хоёрт: Numpy болон Рandas сан ашиглах"
   ]
  },
  {
   "cell_type": "code",
   "execution_count": 4,
   "metadata": {
    "ExecuteTime": {
     "end_time": "2018-08-14T06:43:30.164864Z",
     "start_time": "2018-08-14T06:43:30.161951Z"
    },
    "colab": {
     "base_uri": "https://localhost:8080/"
    },
    "executionInfo": {
     "elapsed": 376,
     "status": "ok",
     "timestamp": 1647582749855,
     "user": {
      "displayName": "jawhaa bayr",
      "photoUrl": "https://lh3.googleusercontent.com/a-/AOh14Ghfu39tJLyqapTyoJfac89DfPyCM-MlAeqWT5qHiQ=s64",
      "userId": "02874887376874250256"
     },
     "user_tz": -480
    },
    "id": "A2sLHbfkkVP7",
    "outputId": "d711c19b-4571-4969-8569-743d71b02f7b"
   },
   "outputs": [
    {
     "data": {
      "text/plain": [
       "array([42, 69, 56, 41, 57, 48, 65, 49, 65, 58])"
      ]
     },
     "execution_count": 4,
     "metadata": {},
     "output_type": "execute_result"
    }
   ],
   "source": [
    "scores = np.array(df['english'])[:10]\n",
    "scores"
   ]
  },
  {
   "cell_type": "code",
   "execution_count": 5,
   "metadata": {
    "ExecuteTime": {
     "end_time": "2018-08-14T06:43:30.171540Z",
     "start_time": "2018-08-14T06:43:30.166060Z"
    },
    "colab": {
     "base_uri": "https://localhost:8080/",
     "height": 394
    },
    "executionInfo": {
     "elapsed": 387,
     "status": "ok",
     "timestamp": 1647582752079,
     "user": {
      "displayName": "jawhaa bayr",
      "photoUrl": "https://lh3.googleusercontent.com/a-/AOh14Ghfu39tJLyqapTyoJfac89DfPyCM-MlAeqWT5qHiQ=s64",
      "userId": "02874887376874250256"
     },
     "user_tz": -480
    },
    "id": "D_STBxNdkVP8",
    "outputId": "805c8570-160f-4b2e-ac01-378a8a184b02"
   },
   "outputs": [
    {
     "data": {
      "text/html": [
       "<div>\n",
       "<style scoped>\n",
       "    .dataframe tbody tr th:only-of-type {\n",
       "        vertical-align: middle;\n",
       "    }\n",
       "\n",
       "    .dataframe tbody tr th {\n",
       "        vertical-align: top;\n",
       "    }\n",
       "\n",
       "    .dataframe thead th {\n",
       "        text-align: right;\n",
       "    }\n",
       "</style>\n",
       "<table border=\"1\" class=\"dataframe\">\n",
       "  <thead>\n",
       "    <tr style=\"text-align: right;\">\n",
       "      <th></th>\n",
       "      <th>score</th>\n",
       "    </tr>\n",
       "    <tr>\n",
       "      <th>student</th>\n",
       "      <th></th>\n",
       "    </tr>\n",
       "  </thead>\n",
       "  <tbody>\n",
       "    <tr>\n",
       "      <th>A</th>\n",
       "      <td>42</td>\n",
       "    </tr>\n",
       "    <tr>\n",
       "      <th>B</th>\n",
       "      <td>69</td>\n",
       "    </tr>\n",
       "    <tr>\n",
       "      <th>C</th>\n",
       "      <td>56</td>\n",
       "    </tr>\n",
       "    <tr>\n",
       "      <th>D</th>\n",
       "      <td>41</td>\n",
       "    </tr>\n",
       "    <tr>\n",
       "      <th>E</th>\n",
       "      <td>57</td>\n",
       "    </tr>\n",
       "    <tr>\n",
       "      <th>F</th>\n",
       "      <td>48</td>\n",
       "    </tr>\n",
       "    <tr>\n",
       "      <th>G</th>\n",
       "      <td>65</td>\n",
       "    </tr>\n",
       "    <tr>\n",
       "      <th>H</th>\n",
       "      <td>49</td>\n",
       "    </tr>\n",
       "    <tr>\n",
       "      <th>I</th>\n",
       "      <td>65</td>\n",
       "    </tr>\n",
       "    <tr>\n",
       "      <th>J</th>\n",
       "      <td>58</td>\n",
       "    </tr>\n",
       "  </tbody>\n",
       "</table>\n",
       "</div>"
      ],
      "text/plain": [
       "         score\n",
       "student       \n",
       "A           42\n",
       "B           69\n",
       "C           56\n",
       "D           41\n",
       "E           57\n",
       "F           48\n",
       "G           65\n",
       "H           49\n",
       "I           65\n",
       "J           58"
      ]
     },
     "execution_count": 5,
     "metadata": {},
     "output_type": "execute_result"
    }
   ],
   "source": [
    "scores_df = pd.DataFrame({'score':scores},\n",
    "                         index=pd.Index(['A', 'B', 'C', 'D', 'E',\n",
    "                                         'F', 'G', 'H', 'I', 'J'], name='student'))\n",
    "scores_df"
   ]
  },
  {
   "cell_type": "markdown",
   "metadata": {
    "id": "0yyNIDIhkVP9"
   },
   "source": [
    "## 1.1 Датаны төвийн үзүүлэлтүүд"
   ]
  },
  {
   "cell_type": "markdown",
   "metadata": {
    "id": "J2dhxjCxkVP-"
   },
   "source": [
    "### 1.1.1 арифметик дундаж (mean)"
   ]
  },
  {
   "cell_type": "markdown",
   "metadata": {
    "id": "9NrjLSXXkVP_"
   },
   "source": [
    "![image.png](data:image/png;base64,iVBORw0KGgoAAAANSUhEUgAAAX4AAABGCAYAAADLhP+IAAAgAElEQVR4nO2deXxU1fn/3+fe2ZJJJhtLdpIge0BkE0VA0FoUBLWoaLVSEX+Vr4rWrSK4VApqVUQRbCtWxK2tSK22biCooLIqiYGEAAkIJIEkkD2TmXvP7487mUySSUAMBsh9v16Dce4yzz333s855znPeY6QmpSYNEcAMuBvAv7/x6AAeptYZGJiYtImKO1twClJoOjj+/t4RF/QvERN0TcxMTnFsLS3AackJ9oHOt4KwsTExKQdMVv8JiYmJh0MU/hNTExMOhim8LeEaPK3aGnHk/jbwX7357bFxMTkjMMU/jbEcPEHOPmPp3Rb2Ecea7DAFH8TE5MTRLRVOKdEIkw1ahPqRT9YeZrlbGJi8lNpsxa/KUZtSGvRQU2/b6HY5TG2m5iYdFzMcM6fm2BCLEEG6XhJKRFCgAK6pqOoCjWVNeTuyuXIkaPEx8XR/azuVFdXk5ubS2VlJaGhoaSnp+OwO/znNjExMQnEFP6fmZYEPtj3YPSkFF1BICg+XMLy5ct5//3/kJWVRf/+/XnyiSdZv349/37vPTIyMkhKSuT5hc8zYsQIFMUcwjExMWmOKfw/I17Ny5dfrqO8vAyLxYLH40XzepFIdL2x8FssKjabDSEEiYmJDBgwgOLiw1RVVTJ58mT27Mnjq6++4pFHHmHs2LHceOMN/PnPfyYzI5N//PMfDB02tKHVb2JiYhKAKfw/I7qus3z5cv7975WoikpEZATOUCeiWctcUltby9GjR9E0jZtuuoknnniClJQU7rv3Pr7Z8A1erwckdO7SmenTp1NQUMDztucRiiAkJMRwEZmYmJgEwRT+nxGb3cZ1103hs9Wr2ffDPkZfOJq5c+ditdpQAoVawObNm3n00UfZsWMHR48exaJasFgtSE2ye/duSkpKiYqK5Lop1xEeHs7atWs5XHwYV7iLIUOGoChq+12oiYnJKY3pBG4JpcnfJ9KAbnqMhJEjR3HL9FtwOp2sWbOG7777jqSkRFLTUhs+KalcddWvmDlzJg6Ho9Hxte5atm/fTl2dm65du9K9e3dQYPuOHZSWlhIdE83w4cOxqKbwm5iYBMcU/mAIGmfV1Gmb6BgJdruNG264gREjRlB6pJQFzy5g3759SF02CuNUFYWJl08kLS0Nr8frP0XZ0TK2bv0WgD59+hDTKYbaGje5uTvxeDykpXUnOTkZXbZRWtDT9QkxPV0NNCmLlgIJTDoOp+trfXJpq/ciyHkEgm7J3ZgxYwaxXWPZsnUrzy98nqNlZc1e0KioKG644QaGDx/u33bo0CFyc3cC0LNHT0JDQzl0qIgDBw5gtVhJTkri8OHD7Nixg5ramhMzW0p0qaPpGjXVNVTXVBsViS9dhERSV1dHZVUV7jr3KSeyUvoGy31pspveBuP6ZMM1tQEffvQhgwcP5sXFLxplcgz7JNJflrqUfjv0wAgvQZuk6JBSMmfOHEaOGsnnn39ulMcpkPpjw8YNjBgxgnnz51NTW9v6zk3tDfh/ia8yEwFla9IqpvC3A0IIxowZw003TcViUXlnxQo+eP/9Zi0xm93GHbffwY2/uREEaJpGVlYWJSWlOOwOevfpjdVqJTIikvBwF3WeOr766itmzZrF559/jqZpJ/RyC1VQWVnFe+/9h/vvu5+bb76Zf7z9DyoqKpBSkp+/lzkPP8ydd9zBp59+esq1IIUQeL1eioqKOLD/AEjZaEJb6ZFScnNzKSsra7NKvry8nKztWRQVFRm9t1YNBKEIKisr2Zu/l9LSEl9lpaOoAo/Xw959e8nP34uu6z/JRonRkyw9UkpOTg5FRUWcKuP+VVVV7MzN5eDBg2ia99gHAJVVleTuyqWwoNAv8gKo89RxYP8B9uTlGc+9SauYg7vtRHhYODNm3MbatWvYuHEjS15awogLRpCWluZ/0QUCp9MJgNSN1kxUdBTXXHMNYU4n/fv3B8AV6WL69Fvo2qULHq+XUaNGcfnlEwhzhp2QbZUVVTy3YAHvvfceBwsKKCwqYPPmzSQkJtC9e3fmzJ7NypUrcYY5GT16tGHvqSAmPhvy8vJ57bVlbNy4ESEEEyZczrRpN6OqFlZ9+imv/v1VKisruevuuxlz4YVtFwElwaJaWi2L+t7Sqk9XsXLlSnbt3kVCQgL3338//fv3p/hwMUuWvMT6detI75/O7NmziYyI/MmmKUJBURQjguwUqadVVQUpsViOPR7l9WqsXbOGt//xNvn5e4mMiOCBPzzA4MGDKSsv45Wlr/DxJx+TlpbG7NmzSYhP+Bmu4PTFFP52QiJJTkrmzjvuZOZdM9m69VsWLFjA3MfnEhER0Wx/AaiKytixYznvvPOx221GnL5vPOKisRcxZsxY40WyWhpWEavvEv8Il7/bXYuiKryw6AU2bdrE739/D4UFhaxetZr//Oc/bNi4gT88+Adqa92cf/75p07oqITikmL++MfH2LFjBwcOHODAgQNs376dESPOp66ujnvuuYc9e/Lo3KkTQrRdnSWEACF8ZdHyGaWEVatWMW/ePNx1bjIyMtA1nbi4OGY/NJu/vPQX5j7+OFJKunTtQogjpA2sq/9taVxz/YzwU4Djdct88/XXzP3TXGpra8nKyqKyqhJnWBhLl77Ma6+9xqOPPorH48HpDDtlru1UxhT+lghcK1fhxFbXarqEY6NNAolk0hWTWLN2LW+9+SYvv/wy48aN49JLL0VRlWZiLYTAarVis9rQpe5zsRhZkoQisATOB5CcmM1AREQEd991NyGhIbjdblwuFzU11bz19ltYLVaemP8EV1x5BR6PF4fDbgiJIgx7W7nmn4Oa6hr69unL/fffz/vvf8Cc2bM5dOgQr776KtnZOSQlJTFr1iyklAw8e2BziRZGegxd6qiqGjwHVZCvLKrFfx/82h9YDv5nSKJrOnfOvJP+/fszZcoUMr/PZMOGDTz/wvO8/fbbPPLIIyR3S6bHWT2w2Yx7rSgKmqaha8ZDYbVa/aduVnkJo4IR/spfoFpUFKEYdiqiUcNA13QQonFIcRvit69JmdjtdoTPJn9PSfoSEQqB1BsqKE3TuOWWWxg9ejTXXjuFDRu+4bvvvmXx4sW8/PJSbptxGwMHDiQqKorOnbuclOs4k2gz4T9VevttRtOonuNA+v4NnlUzWGp9QWiokxkzZpCZmcGWLVvIzMjkoosuxuGwB/2N+nNrmsYPP+ynzu0mPj6ecJerzdb3VVWVkNAQBIKuXbuSmpJCRmYGxcXFPPbYY4yfMB5VUVFDjC66EIIN32zkyJFSxlw4Brvd3i5ZRCWSuLg4fnfb7wh3hZOXl48zzEl5eTmvv/46AweewzPPPE2vXr0BaYhnk0pq//79fPzxJ0ipc83V1+CKcDXaR9M1NmzYSH5+HlJKNE1H13U2b96M1+vl263f8uYbb6IGuC/i4uIYOXIkDrsDIRTGjRsHAmpqauie1p3M7zPZsX0H+fn53H777dx550ysVot/7KSyspLc3Fw2b97Mvn37AOjcuTPJyd0YO3aMr4co/Of88ssvOXz4MLqm++/D9u07qK6pZs3atVRUVhj3RhiVVM+evRgyZMhJuieg6xqZGZnk5OQ0CjjIz8/H7a4lIzOD5a8vx+EI8Y3HSGJiYhg7dqy/x3P+iPP9Yyd9+/Zh06aN7NmTx9zH5zJ9+nTuu+8+wsLDEAhUq2qudX0spCZlW3x0TW+T85z0jx7waWdbdK8uNa8mCw4WyPGXjpexXWPl+nXrj6sst327TV515VVy3C8vlRnbMk6ajaUlpfL6666XVotV9jirh9yyeavUvbrUvXqj8rx1+q1y0MBBMm9PXvs9CwH31evxysyMTDkgfYAEZEq3FLl61WqpebRm++uaLisrKuXKd1fKcb+8VIaHhcuLx14sy8vKm/1GTVWNnHLNFGm3OaQqVCkQEpBWi02qQpUOm0OGhjilM7Thc97w8+XhQ4cbnUfzaLKmukbOfXyuVBVV2m12+dupN8uyo2WGXdKwzeP2yL/+5a/ynLPPkX1795Uz75wpr558tYyOipGucJe85/f3yLKjZVL3nXdn9k45dPBQGeoIlSGOEBniCJGhIaHSYXNIq8Xqsy9UhjpCpTPUKUNDnPLW6bee1PehprpGzrhthrTbHDLEEer/OOwOqSqqtFlt0mF3yBB7iP/Ts0dPuf+H/Y3fF99zteDZBTLSFSkBecWkK+SB/QebPwft8fydRp82a/GfNmmZT5GBrXrctW5e/furfLftO+bMmcO5555rdG+D2envCsOO7B1s2LCBTp06EeGKOHF3VAvU+1537szl22+/RfNqVFRUcvDgQc4++2xURWmwR0qm3TyNa6+5lvi4eKOLrrTD81B/7cIYD4mIiCAyKhKBICYmhu7duzf2/0ojfDIr63teeuklPvzwQ/bu3YuUEovVis3WvNdlsVqYOnUqw4cPR9M1BAKrzcbmzZt48823uHDMhYwZM8bvipHS6IXUD9LXIxSBxWIhOTkZpOG66de3L+Hh4f77KKWkpqaGzMxM8vLz+fNTT3HLLbdQWFTI1KlTWbNmDcuXL2fixImMvGAkmtTp1Lkz9953L4UFhehS+l0sb7/1NllZWUy+ejJ9+/bz+foNWwYPHnRSXXQ2m43rr7uenj16NooAy8nJYdmyZQwaPJgJE8Y3cl9FR0UTEWxQW4HU1FRsdhtWi5W+ffsSFenbr/7WNuleGz8pm937jozp4w+CDPi3nnqffFtVcPXx26tWr2LxksVMnDiRm397s5FRs4WHUkrp3zZ69GjeeOMNwsLCiYuLCzT8pyOM692Vu4snn3iCkuISbHYblRUVZO/YwaWXjmsUCLxp0yZWrVpFp86dGDJ0COHW8DYy5MSQUqJ5NdatW8f27TtQFZXS0lL25u8lKSnJfw8lUFfn5q233gIEDz/8CE88MZ+cnTvRda1BGQOwqBYu/sUv+MUllwCGH10ogndXvMs///lPhg0bxh2334HD4cDj9aCqKlLKZik0hBAUFhaxcuVKJBK32012djZVVVX+aCwhBHaHnSuvvJIBAwYwYcIEdKnTuXNnkpKSEUKgaToV5RVouo5FVYmMjODqyVf7xoBAEQKPx8POnJ3s3rOH8eMn8KvJV6F79UBjjLTf4uREdytC4fwR5xvumoAyXb9+Pe+seIfBgwZxx+13EOp0+l09Dbb5/iuNci45XMLKlSspLy/3hzcfLTuKI8SBkMIfy3/o0CG8Hi8xMTHY7XaOHDmCalGNRlKwMZgOhin8QZHNHgqP5kEIYUTMwE/2IQpFkJuTw2OPPkbv3r39YtEI3wCz/0WQUFFZwX8/+C/l5eVYrVb69O2DalH9/k+jta0EFa3GBgTvpR06fIicnBzsdjvPPPMs5RXlzJo1iyeffJLS0lKytmdRW1vL5s2bSUxMJC01jYT4BNZ+/jkVFeVcOu5SXOGudvPxC2NWFJ+u+pSFCxfSqVMM5eVllJaWkp2TzYgLLkBH91WwErvNzgP3P4DFYqGsvIzFi180ejOtIIRAURtfm0CgeTV/yKQQApvN1ji6CmMgVQhBSXEJC559lry8fOLj4ykoKCQjM4Py8nKczjDqx4qsViujRo1i5MiRqKoFkJQdLaOgoABN0+hx1lkMOHuAERIpQOgCQ/8UFEEjOxRFIKWOrkkjeKBR4bV+r1q7n/WDsf7BYr3h5RC+ykT4xiAaNaCksa9QFGMgXTHsqN/mOxCvx4vFYqGivJInn3qSjIwMYmPj2L9/Pzt27KCkuITY2Fg8Xg9Wm5WKykpWvLOCjz/5mEmTJmGxWNi4cSNut5tbb72VwYMHd/iU5R1G+A8WHGT+/PlUV1Xj8WW2bIn6SS96gHgKjEyYDz74IF26/vSogbKjZTzz9DMUHSriiSeeoFfvXs3t0CWbNm2iqKiI8eMn+F+7jZs28eKiRdjsdh56aBbDhg1DEQoVFRUsfH4he/P3oulao1QPgVitVn457pdcMekKQxTqf09K1n25jvvuvw+Xy0V5WTlLliwhPT2dpa8spbi4mK+++oo5cx7m87VrefqZp0lLTSMuPo601FQ2btrYro2onTk7ydqeBcAf//hHBg4cyNChQ5k3bx6Hig6R9X0WVVWVvPPOOwwfPpw+vfsA4HK5kEB5RTnCF5IphNJitIIiRLOKvz5FRmCL1l8YPteNu66OTz/5BLvDzurVq3nvP+8xf9583njzDVavWk3enjx+2PcDxcXF5OTkcNlll+EMdaIG9hYUwbr169i27TvCw8K54447iI+Pb+TmE+B3a9Q3GmS9yAqBpnlRRINb5VhIJOvWreeDD94nPj6eqVOn4nK5KCwsZNELi3DXubn7rrtJSEygrs7DO+/8iw0bNjBp0iTGjhnbvDwImGErQUodb+AEroD9dK/Oxx99jAQ2bdrIG6+/wZw5c9i2bRtLX1nKwYMHyd+bj8Vq4ZtvvuH6639NaEgICYmJfPHFF9TW1HLNtdcwYMAAnn3mWerq6li4cCGRkT99bsTpTIcQfomktLSUjz/+BI/Hg6K04EM/BklJSZSXlf804Rfg8Xh46623eHflu8yePZvRF44O2s2uq6tj6dJXKCg4yPjx4wGBK8LFeecNZ/HiFwkNCWHo0KH+l7y+N1BQUOD/rWDouk5EZCTjx49vJPyaprH/wH5qamqw2WzM/dNcLv7FxWiaxnXXXc+LixZRVVXFxx9/xN133c3QocOMliQKiqqgKGq7zQqVSP77v//y7LPPoms6PXv15OGHH0HzevnrX/5KUWER77//Pvt+2EdVVRXDzx3eqNcjm/SQpPxxM2Y9Ho/hvtNa7goWFhYwb/58CgoO4vV6uWvmXUycOJGiQ0Ws+WwNZeXlzHl4Dh6Ph19c/AvUyy2GCQHujwN7D7D4xcVUVVUx8667+NXkyb6JUC3bZoRG6uiajqZpP8qlUy/QW7ZsZtGiRQwcOJApU6bgcrkoLS3lL3/9C16vl6uvvoaExAQ8Hg8rVqxg5cqVREZENhb+ensQ6L6aU2I0cFQ1eCRO6ZFSnlv4HFlZWQgE06dPZ8qUKTjDwnht+XJqa2p58oknCQkN9U9oVC0qaWmphDhCGDRoENdffz12u52MjEwyMzOoqqoyhb+9Dfg5EELQq1dvPvroQwCsVhu1tTWNuqSBKIrSbJuUkpCQELp27XrCdkgp0TSNL774gueeW8hll13GtGnTsNqsQR/6iopKNnzzDQmJCdSruObV2JW7C6/XS6fOnUhJSfGLV2xsLCvefRdPXZ0hQi1cnxCCiIgIQkNDm133peMuJT09ndjYWHr06OGfO3Db737HBReMQFFUEhMTSExMauQSaSqcPzsSKioqiIuLIy0tjUcffZTU1BTq6uq49dZbeXXZqyiKQmhoKL///e/p06dPm7qioqKi6N9/ALFxsUbDIghHjx7F5QpHEM+1U6Zwyy3TsDvsTJo0ia+//oac7Gw8Hg+/vOSXTLtlGjartcFTJATV1dU8t/A5tmzZwqwHZzF9+nTsNlvroo9AAqlpqaT3Tyc6Orq5m6cV6l04iQmJnHPOOfTu1dvfWAgNdTJgwACqqqpxuYxBaVVV6NWrF2effTaJiYmt2uUMddK/fzqJSUnYgwykG2VWhtPpJC4ujl9d9Sv+7/b/w+kMY8yYC7luyhS2bNmCalEZOnQIt99+B6rv2jRNQ9M1YxJciBESarGo/l5PR6dDCH/9A5mSkoIilEY+88BWn+FvFI1nNsqGbrN/QPNE/Pu+KIqDBw/y9NNP4/V6GDduHHvz9xqup3pTfUm6ysrKeO+999i9Zzd9+vb1by8tPcK2jG0IITir+1l+N4UxXiWI7drVqGB0Dc0bPGeJoqqGqCiNXRaKotCjRw969OjR7JjIyEhGXjCy2TXVT7gxcspIPB6PkXPmZ/ahCkVw6/Rbuek3NxEZFUlkZCRSGrH606dP5/KJl2O1WnG5XA0RNm0YATVq1GjeXbGC6JhorFZb0P169ezF4sVLCAkJoUuXLqgWY5JeYkIiixa9QHl5OVFR0YSFhfn88dLX4gZ0yd9f+Tvv/OsdHnroIabdcgthYU5jbMd3HwIFLXCAVCD4zW9+w+TJk4mLi6elrmBrs2jHTxjPsHOHYbPZcLlcAKR068bf//53pIT4+HiklNhsNu6++26mT59OZERkq+dM75/OsmXLCA8PN967IPsmJMSzYMFzqKpCly5dsFmNVeni4uJ4+umnKTpURKdOnXCGOrHarP7ejPCP4OJz2xoPuqqopvDTUYQfmnVvhRB4NS+KovgHpzRdwyIs/sElY6Kl7v9/IcVPClOsrq5iwYIFfPnFl9jsdhYuXIim6c0SVEldUllVSWFhIbW1tVgtDbeprOwoOTk5APRL74fLFeGfcVldU83y5cspO1rWaqtO1yVnnz2ACy64gLDwJvl8WgsJDZaNQMCBfQfYmbOTAwcPsHnzZlJTU4+jNNoYAbFxcQTeZiENf73NYSO5W3Lj/fWG44yB8YDBS2lsON50AgJBiMNBt27dmm8MOIXD4SAtsGx8NgghiIqMIioyqtFx9QOiUup88uknLF6ymGuuvYabpt6Ew2GnpqaGlStXYrPZuPLKq1CF8LuGGpsg6dy5S8PMXHm8VxZgu91BUmJSs+tKTmpcrgJBp5hOdIrp1Oz6m2Kz2uiW3K3V/Rx2BylBylURChERES2kNxFovoaIpmn+BHher0ZVdRV17jqjcXe6hKCfBDqM8AdSL94FBQVs27aNPXvy6NK5M/3S0+nZs6fRffZx6NBh1q1bR0FBAeeccw7nnXc+qqo0WyPXPyWdluc0ZGZmsmnjJuITElCEoLysHDBezPrWHRhCoKoqCQkJKEIhKanhhTt48CD79x/AarUyYIARzaFLiSIEVVVVvLviXfL35rfqehEIfn3Drzn//POPL/a/ySBlU3Spc/O0m6lz1zWElv7c1GdY9olpo+tv0vFp2uKrH9B117mprKxEKArVVVUcOXKEuNi4ds9ts2fPHp55+hnKysoIcYSwbNlrSF0nf28+b77xJr/+9a+ZMGECqt1hNP6DhCoq/jxCZza61KmurmbDhm+w2qysX7eeqydfTUlpCZmZGZSXlbNp0ybiE+KxWo5/gPtMo8MJvwSEDt9nfc+9997Lxo2b8Ho9KIpCWmoaL7zwAiMuGIGUkn1793Hvfffy2erPcNe5ueqqX9GnT1/sNltzYRUNLbSmwl+fwKtfv3T+9c6/0HXZaI/W2l9CCOx2O4owWqAlJSUgJWFh4VgsFj777DO6p3UnNS2V6OgYli1bhte3gHtLKEIh1OlsNqnoRElKSuLGG2705/H354kJQn3MeuCchJZsFQhf6KTirwzbPNZcwt59e8nKymLduvXk5xuV5q7du3j55ZcZMmQIg84ZRJcuXY4pnG2dB15KcLvd/Ouf/2Ld+nV4vV4WLFjgS7dtROcgITomGoulIdeN+BG9lTMNIQQOu4PRo0aTnp6OqlqIjIokJDSEP/1pHlLqfrdUR6bDCT9IcnbuZNq0aZSUlHJW9+5kZGTg9hiZEt9Z8Q4DBw6ktraW22bcxieffALSmLHZvXsaR0pLefnllyk9UvqjfjU2NpZp026hW0py841Nn8Fg+qIbL3TXrl2x2qwUFhUyb948evfqzR8e/AMCgaoIYmNjj21MYOXUBs9/YEXXmjDXV1zLlr3G7l27kHDMxGDSt8BGaGgoU6dOpV+/fm3aRdd1nczMTF59dRlCCMaNG2dEwUjJ5s2bycjIIOqeKDp36dxqHPvJ0FkpJXV1btx1bi6//HK8Xo2A2hKhKFitFs4+++xmE/+CVlJnfoMfIY0GQs9ePRu+E4LwsHC6XGBE4xm96/ay8NSgwwm/lJJt27YB8PLf/oaiKNw5cybbMr4D4Ouvv2bX7l2sXLmSz9d+zqRJk+jbpy9r1qxh6JCh7MjOZvnryxtCJo+TXj17cdVVV9Etubnw+4XDlzSryUYD32SuAf0H8MILL7Bnzx7i4+MZM2YMXbo0jjQyehjHMChwerts7BppcRyjyX7NTnkcroSysjJWrHiHDd9sQFGVhvPJ4C1mIYzWfnh4GEOGDCE9Pf24RLa1MgjsbQghuPTSSxk7dqyRqqFJ91/47snxVDZ6G6uJIgQhIaE88sgjRihmQJSW3y2IkVSvIW4fv4//uJ6DMwzDbdowcQwaep/1A+FGT7KdDDxF6HDCrwiFSy65hHOHnUtSchJut5s+fXr7hT93Zy6vvfYab7/9NpeNv4w///lp4uPiuG3GDGKio9m+YzsTJ06isPDHCX9CQgLR0dHNvjciYnz+fZ+PpEU3iQSn08nkyZMNd5FvlqSUEq+m+Y87HgGu92trmtYQ3SQUfzRJsHMYaSb04OJfH1okjYpDVYItrmG4rUaNGkWnTp0MUYfWxclX2YS7wo2JSsdDsEHogPPVu+TqUYVKaEiob3PLbqfWf7BtRb8+tbPVagQbKKpqxLr7aGxng3WyiatNBM7IbXszTz18E8ICV0Hz/yV8PVLl+CryMxkhtY7d6fFqXp566in+9Kc/UeeuA2EklRo8aDB/+9vf6NWrl18kDIHWqaioaPQSHg9CCH744Qfy8vIavqv3xcqGMM5j+2ZFwL+NvmrMMU7T0MsIjB4xXpr6yqSp/aJ+FaegXgThj4waMmQIsbFxQc3SdB23uxav19tQ6bR0DQgURfgrKbvdjtVqC7rr0aNHWbd+HQAejxdd15rNYxAYUVmKorRQMf14JBKpS/8AfVtRf80/ekxDNMwXCXYfz2Tqy8xisQQtt/pn6LzzzsMZ5uzQ4t/hWvxNsVgs9O7dm5CQENzuOjTNS89uPXnqz0/Rq08vdK8e8BIKEGpACFlA6/wYz5Cu6SxevJhFLy5q9H39w3e6R1wIYQiqxWLhnt/fw+OPPx50P0VRcNgdSFtDvpjAiKam5zRcPVDfiJgAAAnhSURBVAFf+lxCTV/a7JxsrrrqV4A85uC2ScclJjqG1atXk94v/Uc33s4kOrzwSwlpqWnYbXZ0XUNBIblbN/r16wcSQ5wCNKSgsIDPP/+CmupqFN+aoYDRjVTUZgm+6luC4eHhTJ48mfPOOx/F5wqpby3W73d60zBocO6wc/2Dso0EWkB5WRlffPEFpSWlhktIVY3WdzDXktQNEZcSl8vFeeedR5fOzaNrJNC7d29ef325f2C2rq7u5F2qyWmJ1WLF7nCQlppmvLsdmA4n/NLn3/A31AXUeer8GRUFguLiw9TW1hLum4YeeGxGRiaPPfYYRUVFvqn5gZNimrdcFUVBEQqpqaksfWUpo0aNahh0C9z1TND9gAFjKSXBukFHjhxh0aJFbNy4MeDA4KcLHHeIiIjgmWeeYdLESUH3jYyM5Jqrr6kfI2/k4222c2sT1MxtZ+Y2Tv9edVvSoYRfyiYLhEg4dOgQS5Ysoaio0JjFKyWHig5RVFRE586dGwu/b2ELV3i4f7Zt/cOk+FLLKr4KJPA3JBATE4PF0jAr+LQX+qY0uaagy0/6wugiIyKJienk898fy4dtDH67wsMbpzkO9vv4KozWytbc1jG3mTSiQw3uGjlsdH/u8jq3h8cf/yNLly4lwhXBrt27kFISGRHJ4sXG9Hgw/PP1uWeOHD1C3p48nyujQdx0vWFqeDBCQ0M566yz/NEjHZU6Tx27du2isrISRSj+HCotUT92IIQgNTWVyMioDjwkZ2LSNnSoFr+ma5SUlBDmDEMIwdJXlvLSkpe4bPxlDBkyhFmzHqKmpprqmmq2bNlihE1KndKSUkKdoTidTqIio3ANdPla9Q0SdMywxFZiCGTAv6czxxMlYbPZ6BuQdM53YOs06nX9eLtMTEwa06GEP+v7LB6cNYvUlBRcLhfLXltGWloaM2bMQFFUnKGhVFdX4Xa7Wbd+HSWlJXz11dcsWbKYPzzwB0aOGoXaYoz6T0GeCbp/fJOFml6noPVsp01cO2Zr38Tkp9OhhD87J5u1a9fwqceLrmkkJSfx+NzHGTZsGGVHyxg8ZDAffvgREp2MbRn8dupvyd21i8TEBHr07NFogfG2pOmEog7FscryTKgQTUxOMTrUwpO7d+/xLajioE/fvixZsoSLL74YgIiICKZO/S1xcbHYbQ40XePrr7+mf3o6CxY8R3x8QscVZxMTkzOKDjW4u2btGv773/+RlprKyJEj6duvrzFw6JtBW1NTw4ZvNpCRmYHb7aZfv34MGjSILl26IgQNi4t0mBIzCaTVLKpmqyAoZpmdmnQo4dd0jerqahx2Bxarxb+sXCC6lNS53Wi61uYrNZmYmJicCnQo4Tcx6TAEGYvSpe6fpPhjOdGsrC0dZ06mal861ODumY6kYak5q9WK1BuybGqasQxVR85PcsZRL+4BIu/VvICRV0oowu/GdLvd/lxKzVJpnEwTWxD4oCk9TH42TOE/nfG9M5pmuLC+3fot3237jpiYGMaOvYguXTpTfrScPXl72LRpE7W1tYwdO5b09PS2X8nK5OdHYoRnSGNiYUZGBtu2bSMuNo4xY8fQqXMnSopLyM3NZevWrXi9XsaOvYhevXr+6GUH27yFbrb42xXT1XM6oxizivPz81nw7AI+XbWK/ft/wGKxcPPNN/O7//c7Fi9ZzPvvv09JSSm6pjF48GBee+21Ruv4mpy+6LpO7q5dPPnkk3z5xRcUFBZgtViZ8X8zuPHGG1myZAkffPABhw8fRtclo0aN5NVXX6VL5y7tbbpJO9J2zb7WFr8wOTlI48X/3//+R+mRUu6++y5iY2OpqKjg87Wfc/8D96PrOvPnz6dXr55UV1ezfft2Nm7a1N6Wm7QRutT5+KOP0DQvs+fMISYmhsqqSj799FMeeOABbFYbjz8+l5RuKbjdtWz7bhtbt241Djbf1w7L6dXfD3xQhQz+6WBYVAtXXnklzy98nismXYHTGYYuJdk52bhcLubPm8+VV17JWd3PAgGVlZUUFx82DjZf/NMeVbVw7ZRreX7h81x00UXYrDa8mpeMbRl06tSJh2Y/xFVXXklScjKqqlJTW8vhw4cxVn5rPU+SyZlL2wn/z5FxslEaY2F8/D98Jqa8PAa+9MfxcfFERUeRl59HSUkxIElMSOTOO+/EEeKgsLCQwz6xj4yKIjkpuWMsw9cBEEDXrl0Jd4WTl7eHisoKVEUlKTmJmTNnEhkVSWFRISXFxXi9GtHRUSQmJoI0I2s6MqdXiz8YUsHvZ5Id70FuWDtXZ/OmzVRXVwNwwQUX0KNHD4QQFBYUsmf3HjRdp2vXLvQf0N8U/TMMXZds2bKF6upqLKqFiy66iNSUVKQu2ZW7i7379iGlTmxsLP369jNvfwfnzIjq6YCC3xSp62Rtz6K8vBxVUenbry9hzjAURSE7O5sDBw9gUVTS0tKIiYlpb3NN2hApJV6Ph4xtGVRXV6MoCkOGDMEZ5kRKyY7sbA4fOoQQCj3O6kFIaIjp5evgnPYtfl00/nREJJKy8jJycnIAcDrDSE1NRbWq1NbUsvXbrWheDZvdxqBBg7BareZg/BmFoLyinOzsbKSURERE0L17d4RQqKqqYufOHHQpCQtzkt4/nZCQEH845em/5KfJiaAgdBCn7yDPSdWu00QchRDs2b2HgwcLUIRCXFwcKSkpAFRXV5OXlweAwxHCwIED0TWdgoJCNE0/La7P5FhIdu3axf79+5FSkpycTHxcPEJAVWUV+fn5qIqCM9TJOQPPoba2loKCg+i6bk6g6qCc9q4eIU+idp0ujSEB2dnZFB8+jFfzkpiYQLdu3UBCVVUVFRUV6NJYeeyHH35gzpw51LprefDBB4mNjW1v603agO+++44jR4+gKCoJ8QnEJySAhJraWv/913Wd7Jxs/v3evxEIHnnkEaKjo9vbdJN2QGmIjmkDzMZD+yBhR/YOamprCQkJIS01jbCwMJAQERnJucPOJTw8nKqqKubNm0dmZiaX/OISoqOiT5/KzaRFNE3j+8zv8Xq8OBx2UlJSCA0JQSKJiY5m8ODBOBwhlJWVMX/+E+zatZtJV0zCFeFqb9NN2om2m7lbL/pnkpCcJtek6Rpr164lIyMDm83OsGFDGTRoMKqiIJEUFxfzxRdfUlJSTHx8PH379CUlNeWEE3aZnFp4NY01az4jKysLi2phxIgRDBw4EKEIpJQUFhby1fqvOFx8mOTkZPr3709SYpIZ0tuBMYW/CRJpiqHJGYP5PJsEo20ncJ0BmC+JyZmE+TybBKNtwznPEPE3MTExOZM57eP4OzRmY87ExOQEMIX/dMbsYZmYmJwAltaWVDMxMTExOfMwW/wmJiYmHQxT+E1MTEw6GP8fpbT7jtdQPPQAAAAASUVORK5CYII=)"
   ]
  },
  {
   "cell_type": "markdown",
   "metadata": {},
   "source": [
    "Дундажийг нь олох адилхан аргууд"
   ]
  },
  {
   "cell_type": "code",
   "execution_count": 6,
   "metadata": {
    "ExecuteTime": {
     "end_time": "2018-08-14T06:43:30.176173Z",
     "start_time": "2018-08-14T06:43:30.173034Z"
    },
    "colab": {
     "base_uri": "https://localhost:8080/"
    },
    "executionInfo": {
     "elapsed": 402,
     "status": "ok",
     "timestamp": 1647582897499,
     "user": {
      "displayName": "jawhaa bayr",
      "photoUrl": "https://lh3.googleusercontent.com/a-/AOh14Ghfu39tJLyqapTyoJfac89DfPyCM-MlAeqWT5qHiQ=s64",
      "userId": "02874887376874250256"
     },
     "user_tz": -480
    },
    "id": "F-_QrF7fkVP_",
    "outputId": "73aaeeee-84e5-4fba-a0c5-45f0d7240216",
    "scrolled": true
   },
   "outputs": [
    {
     "data": {
      "text/plain": [
       "55.0"
      ]
     },
     "execution_count": 6,
     "metadata": {},
     "output_type": "execute_result"
    }
   ],
   "source": [
    "sum(scores) / len(scores)"
   ]
  },
  {
   "cell_type": "code",
   "execution_count": 7,
   "metadata": {
    "ExecuteTime": {
     "end_time": "2018-08-14T06:43:30.180268Z",
     "start_time": "2018-08-14T06:43:30.177216Z"
    },
    "colab": {
     "base_uri": "https://localhost:8080/"
    },
    "executionInfo": {
     "elapsed": 440,
     "status": "ok",
     "timestamp": 1647582912350,
     "user": {
      "displayName": "jawhaa bayr",
      "photoUrl": "https://lh3.googleusercontent.com/a-/AOh14Ghfu39tJLyqapTyoJfac89DfPyCM-MlAeqWT5qHiQ=s64",
      "userId": "02874887376874250256"
     },
     "user_tz": -480
    },
    "id": "cSvbqzbEkVQA",
    "outputId": "5d1c59c7-efae-4f2b-982c-452cd1e40c1c"
   },
   "outputs": [
    {
     "data": {
      "text/plain": [
       "55.0"
      ]
     },
     "execution_count": 7,
     "metadata": {},
     "output_type": "execute_result"
    }
   ],
   "source": [
    "np.mean(scores)"
   ]
  },
  {
   "cell_type": "code",
   "execution_count": 11,
   "metadata": {
    "ExecuteTime": {
     "end_time": "2018-08-14T06:43:30.185269Z",
     "start_time": "2018-08-14T06:43:30.181389Z"
    },
    "colab": {
     "base_uri": "https://localhost:8080/"
    },
    "executionInfo": {
     "elapsed": 373,
     "status": "ok",
     "timestamp": 1647582918796,
     "user": {
      "displayName": "jawhaa bayr",
      "photoUrl": "https://lh3.googleusercontent.com/a-/AOh14Ghfu39tJLyqapTyoJfac89DfPyCM-MlAeqWT5qHiQ=s64",
      "userId": "02874887376874250256"
     },
     "user_tz": -480
    },
    "id": "FSSJ31S7kVQB",
    "outputId": "8208842a-9fd8-4ef5-8b92-8d1a3c886e49",
    "scrolled": true
   },
   "outputs": [
    {
     "data": {
      "text/plain": [
       "score    55.0\n",
       "dtype: float64"
      ]
     },
     "execution_count": 11,
     "metadata": {},
     "output_type": "execute_result"
    }
   ],
   "source": [
    "scores_df.mean()\n",
    "# Эхний 10 сурагчийн англи хэлний дүнгийн дундаж"
   ]
  },
  {
   "cell_type": "markdown",
   "metadata": {
    "id": "UbjpQ6FIkVQC"
   },
   "source": [
    "### 1.1.2 голч утга (median)"
   ]
  },
  {
   "cell_type": "markdown",
   "metadata": {
    "id": "mT-Rg_xQkVQC"
   },
   "source": [
    "![image.png](data:image/png;base64,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)"
   ]
  },
  {
   "cell_type": "code",
   "execution_count": 9,
   "metadata": {
    "ExecuteTime": {
     "end_time": "2018-08-14T06:43:30.189618Z",
     "start_time": "2018-08-14T06:43:30.186212Z"
    },
    "colab": {
     "base_uri": "https://localhost:8080/"
    },
    "executionInfo": {
     "elapsed": 5,
     "status": "ok",
     "timestamp": 1647583049953,
     "user": {
      "displayName": "jawhaa bayr",
      "photoUrl": "https://lh3.googleusercontent.com/a-/AOh14Ghfu39tJLyqapTyoJfac89DfPyCM-MlAeqWT5qHiQ=s64",
      "userId": "02874887376874250256"
     },
     "user_tz": -480
    },
    "id": "gMND0VSdkVQD",
    "outputId": "12204270-06b4-41bc-d469-fa0d971d8a94",
    "scrolled": false
   },
   "outputs": [
    {
     "data": {
      "text/plain": [
       "array([41, 42, 48, 49, 56, 57, 58, 65, 65, 69])"
      ]
     },
     "execution_count": 9,
     "metadata": {},
     "output_type": "execute_result"
    }
   ],
   "source": [
    "sorted_scores = np.sort(scores)\n",
    "sorted_scores"
   ]
  },
  {
   "cell_type": "code",
   "execution_count": 12,
   "metadata": {
    "ExecuteTime": {
     "end_time": "2018-08-14T06:43:30.195944Z",
     "start_time": "2018-08-14T06:43:30.191005Z"
    },
    "colab": {
     "base_uri": "https://localhost:8080/"
    },
    "executionInfo": {
     "elapsed": 388,
     "status": "ok",
     "timestamp": 1647583048430,
     "user": {
      "displayName": "jawhaa bayr",
      "photoUrl": "https://lh3.googleusercontent.com/a-/AOh14Ghfu39tJLyqapTyoJfac89DfPyCM-MlAeqWT5qHiQ=s64",
      "userId": "02874887376874250256"
     },
     "user_tz": -480
    },
    "id": "T5a6WnBbkVQD",
    "outputId": "bf9b1d27-bc5a-4c24-934b-66a463ebb281"
   },
   "outputs": [
    {
     "data": {
      "text/plain": [
       "56.500"
      ]
     },
     "execution_count": 12,
     "metadata": {},
     "output_type": "execute_result"
    }
   ],
   "source": [
    "# ooroo tomyolj oloh\n",
    "n = len(sorted_scores)\n",
    "if n % 2 == 0:\n",
    "    m0 = sorted_scores[n//2 - 1]\n",
    "    m1 = sorted_scores[n//2]\n",
    "    median = (m0 + m1) / 2\n",
    "else:\n",
    "    median = sorted_scores[(n+1)//2 - 1]\n",
    "median"
   ]
  },
  {
   "cell_type": "code",
   "execution_count": 14,
   "metadata": {
    "ExecuteTime": {
     "end_time": "2018-08-14T06:43:30.201176Z",
     "start_time": "2018-08-14T06:43:30.197149Z"
    },
    "colab": {
     "base_uri": "https://localhost:8080/"
    },
    "executionInfo": {
     "elapsed": 6,
     "status": "ok",
     "timestamp": 1647583116900,
     "user": {
      "displayName": "jawhaa bayr",
      "photoUrl": "https://lh3.googleusercontent.com/a-/AOh14Ghfu39tJLyqapTyoJfac89DfPyCM-MlAeqWT5qHiQ=s64",
      "userId": "02874887376874250256"
     },
     "user_tz": -480
    },
    "id": "azsfggfJkVQE",
    "outputId": "849b4025-0814-4f0b-eacc-f6cb1d0cf399"
   },
   "outputs": [
    {
     "data": {
      "text/plain": [
       "56.500"
      ]
     },
     "execution_count": 14,
     "metadata": {},
     "output_type": "execute_result"
    }
   ],
   "source": [
    "np.median(scores)"
   ]
  },
  {
   "cell_type": "code",
   "execution_count": 13,
   "metadata": {
    "ExecuteTime": {
     "end_time": "2018-08-14T06:43:30.205400Z",
     "start_time": "2018-08-14T06:43:30.202130Z"
    },
    "colab": {
     "base_uri": "https://localhost:8080/"
    },
    "executionInfo": {
     "elapsed": 365,
     "status": "ok",
     "timestamp": 1647583119017,
     "user": {
      "displayName": "jawhaa bayr",
      "photoUrl": "https://lh3.googleusercontent.com/a-/AOh14Ghfu39tJLyqapTyoJfac89DfPyCM-MlAeqWT5qHiQ=s64",
      "userId": "02874887376874250256"
     },
     "user_tz": -480
    },
    "id": "vWF5CSHVkVQF",
    "outputId": "eee4956a-ae4c-4463-9626-9fdd9ae27a05"
   },
   "outputs": [
    {
     "data": {
      "text/plain": [
       "score    56.5\n",
       "dtype: float64"
      ]
     },
     "execution_count": 13,
     "metadata": {},
     "output_type": "execute_result"
    }
   ],
   "source": [
    "scores_df.median()\n",
    "# эхний 10 сурагчийн англи хэлний дүнгийн голч утга"
   ]
  },
  {
   "cell_type": "markdown",
   "metadata": {
    "id": "ObuqrvIukVQF"
   },
   "source": [
    "### 1.1.3 mode\n",
    "\n",
    "хамгийн их давтагдаж байгаа утга\n"
   ]
  },
  {
   "cell_type": "code",
   "execution_count": 14,
   "metadata": {
    "ExecuteTime": {
     "end_time": "2018-08-14T06:43:30.210888Z",
     "start_time": "2018-08-14T06:43:30.206386Z"
    },
    "colab": {
     "base_uri": "https://localhost:8080/"
    },
    "executionInfo": {
     "elapsed": 404,
     "status": "ok",
     "timestamp": 1647583204764,
     "user": {
      "displayName": "jawhaa bayr",
      "photoUrl": "https://lh3.googleusercontent.com/a-/AOh14Ghfu39tJLyqapTyoJfac89DfPyCM-MlAeqWT5qHiQ=s64",
      "userId": "02874887376874250256"
     },
     "user_tz": -480
    },
    "id": "9vXkhftfkVQF",
    "outputId": "0ace261d-d276-44c4-8c99-0e339b49f67d",
    "scrolled": true
   },
   "outputs": [
    {
     "data": {
      "text/plain": [
       "0    1\n",
       "dtype: int64"
      ]
     },
     "execution_count": 14,
     "metadata": {},
     "output_type": "execute_result"
    }
   ],
   "source": [
    "pd.Series([1, 1, 1, 2, 2, 3]).mode()"
   ]
  },
  {
   "cell_type": "code",
   "execution_count": 15,
   "metadata": {
    "colab": {
     "base_uri": "https://localhost:8080/",
     "height": 81
    },
    "executionInfo": {
     "elapsed": 409,
     "status": "ok",
     "timestamp": 1647583207293,
     "user": {
      "displayName": "jawhaa bayr",
      "photoUrl": "https://lh3.googleusercontent.com/a-/AOh14Ghfu39tJLyqapTyoJfac89DfPyCM-MlAeqWT5qHiQ=s64",
      "userId": "02874887376874250256"
     },
     "user_tz": -480
    },
    "id": "6xhLIuS0kVQG",
    "outputId": "9321dd3b-9fcd-4773-80e6-4f468d81be92"
   },
   "outputs": [
    {
     "data": {
      "text/html": [
       "<div>\n",
       "<style scoped>\n",
       "    .dataframe tbody tr th:only-of-type {\n",
       "        vertical-align: middle;\n",
       "    }\n",
       "\n",
       "    .dataframe tbody tr th {\n",
       "        vertical-align: top;\n",
       "    }\n",
       "\n",
       "    .dataframe thead th {\n",
       "        text-align: right;\n",
       "    }\n",
       "</style>\n",
       "<table border=\"1\" class=\"dataframe\">\n",
       "  <thead>\n",
       "    <tr style=\"text-align: right;\">\n",
       "      <th></th>\n",
       "      <th>score</th>\n",
       "    </tr>\n",
       "  </thead>\n",
       "  <tbody>\n",
       "    <tr>\n",
       "      <th>0</th>\n",
       "      <td>65</td>\n",
       "    </tr>\n",
       "  </tbody>\n",
       "</table>\n",
       "</div>"
      ],
      "text/plain": [
       "   score\n",
       "0     65"
      ]
     },
     "execution_count": 15,
     "metadata": {},
     "output_type": "execute_result"
    }
   ],
   "source": [
    "scores_df.mode()"
   ]
  },
  {
   "cell_type": "markdown",
   "metadata": {
    "id": "Vm6I4T8PkVQG"
   },
   "source": [
    "## 1.2 датаны тархалтын үзүүлэлтүүд"
   ]
  },
  {
   "cell_type": "markdown",
   "metadata": {
    "id": "sixiNHyYkVQG"
   },
   "source": [
    "                          english scores\n",
    "                  A class                     B class\n",
    "              бүгд = 50 оноо          50% - 0 оноо, 50% - 100 оноо \n",
    "mean               50 оноо                     50оноо          \n",
    "median             50 оноо                     50 оноо\n",
    "\n",
    "\n",
    "үр дүн яагаад адилхан байсан бэ?"
   ]
  },
  {
   "cell_type": "markdown",
   "metadata": {},
   "source": [
    "Тархалтыг олох эхний алхам хазайлтыг олох байдаг."
   ]
  },
  {
   "cell_type": "markdown",
   "metadata": {
    "id": "VU3yk_vqkVQH"
   },
   "source": [
    "### 1.2.1 вариац ба стандарт хазайлт"
   ]
  },
  {
   "cell_type": "markdown",
   "metadata": {
    "id": "lPO5DSaSkVQH"
   },
   "source": [
    "#### 1.2.1.1 хазайлт\n",
    "\n",
    "Өгөгдөл тус бүрийн арифметик дундажаас хэр хазайсныг нь хазайлт гэдэг"
   ]
  },
  {
   "cell_type": "code",
   "execution_count": 19,
   "metadata": {
    "ExecuteTime": {
     "end_time": "2018-08-14T06:43:30.220233Z",
     "start_time": "2018-08-14T06:43:30.216601Z"
    },
    "colab": {
     "base_uri": "https://localhost:8080/"
    },
    "executionInfo": {
     "elapsed": 402,
     "status": "ok",
     "timestamp": 1647583503392,
     "user": {
      "displayName": "jawhaa bayr",
      "photoUrl": "https://lh3.googleusercontent.com/a-/AOh14Ghfu39tJLyqapTyoJfac89DfPyCM-MlAeqWT5qHiQ=s64",
      "userId": "02874887376874250256"
     },
     "user_tz": -480
    },
    "id": "1IBMG0sbkVQH",
    "outputId": "3a60e18d-1ac8-4fd0-fa6a-d9eb026d64dc"
   },
   "outputs": [
    {
     "data": {
      "text/plain": [
       "array([-13.,  14.,   1., -14.,   2.,  -7.,  10.,  -6.,  10.,   3.])"
      ]
     },
     "execution_count": 19,
     "metadata": {},
     "output_type": "execute_result"
    }
   ],
   "source": [
    "mean = np.mean(scores)\n",
    "deviation = scores - mean\n",
    "deviation\n",
    "# хазайлтын үзүүлэлтүүд\n",
    "# ангил хэлний дүнгийн хувьд эхний 10 сурагч \n",
    "# эхний сурагч нь дундажаасаа 13 оноогоор бага оноо авсан байна."
   ]
  },
  {
   "cell_type": "code",
   "execution_count": 20,
   "metadata": {
    "ExecuteTime": {
     "end_time": "2018-08-14T06:43:30.225383Z",
     "start_time": "2018-08-14T06:43:30.221236Z"
    },
    "colab": {
     "base_uri": "https://localhost:8080/"
    },
    "executionInfo": {
     "elapsed": 386,
     "status": "ok",
     "timestamp": 1647583507504,
     "user": {
      "displayName": "jawhaa bayr",
      "photoUrl": "https://lh3.googleusercontent.com/a-/AOh14Ghfu39tJLyqapTyoJfac89DfPyCM-MlAeqWT5qHiQ=s64",
      "userId": "02874887376874250256"
     },
     "user_tz": -480
    },
    "id": "VNzDAKqikVQI",
    "outputId": "9f9699c7-a078-451c-edd9-7f8367dfc84d"
   },
   "outputs": [
    {
     "data": {
      "text/plain": [
       "55.0"
      ]
     },
     "execution_count": 20,
     "metadata": {},
     "output_type": "execute_result"
    }
   ],
   "source": [
    "# харицуулах дата\n",
    "another_scores = [50, 60, 58, 54, 51, 56, 57, 53, 52, 59]\n",
    "another_mean = np.mean(another_scores)\n",
    "another_mean"
   ]
  },
  {
   "cell_type": "code",
   "execution_count": 21,
   "metadata": {
    "ExecuteTime": {
     "end_time": "2018-08-14T06:43:30.225383Z",
     "start_time": "2018-08-14T06:43:30.221236Z"
    },
    "colab": {
     "base_uri": "https://localhost:8080/"
    },
    "executionInfo": {
     "elapsed": 381,
     "status": "ok",
     "timestamp": 1647583854027,
     "user": {
      "displayName": "jawhaa bayr",
      "photoUrl": "https://lh3.googleusercontent.com/a-/AOh14Ghfu39tJLyqapTyoJfac89DfPyCM-MlAeqWT5qHiQ=s64",
      "userId": "02874887376874250256"
     },
     "user_tz": -480
    },
    "id": "sR5CzGsTkVQI",
    "outputId": "07278bbe-1f16-4c1a-d40b-0f681eb8fb39"
   },
   "outputs": [
    {
     "data": {
      "text/plain": [
       "array([-5.,  5.,  3., -1., -4.,  1.,  2., -2., -3.,  4.])"
      ]
     },
     "execution_count": 21,
     "metadata": {},
     "output_type": "execute_result"
    }
   ],
   "source": [
    "# another_mean ийн хазайлтыг нь олохын тулд оноо тус бүрээс дундажийг нь хасна\n",
    "another_deviation = another_scores - another_mean\n",
    "another_deviation\n",
    "# эхний 10 хүүхэдийн хазайлтын оноотой харьцуулахад хазайлт нь илүү нягтаршилтай байна."
   ]
  },
  {
   "cell_type": "code",
   "execution_count": 22,
   "metadata": {
    "ExecuteTime": {
     "end_time": "2018-08-14T06:43:30.229494Z",
     "start_time": "2018-08-14T06:43:30.226428Z"
    },
    "id": "6tZL7AqJkVQI",
    "outputId": "59e30d00-22eb-46d0-e666-3044d8cf9f60"
   },
   "outputs": [
    {
     "data": {
      "text/plain": [
       "0.0"
      ]
     },
     "execution_count": 22,
     "metadata": {},
     "output_type": "execute_result"
    }
   ],
   "source": [
    "np.mean(deviation)"
   ]
  },
  {
   "cell_type": "code",
   "execution_count": 24,
   "metadata": {
    "ExecuteTime": {
     "end_time": "2018-08-14T06:43:30.233510Z",
     "start_time": "2018-08-14T06:43:30.230373Z"
    },
    "id": "xtKEyOLikVQJ",
    "outputId": "a98601a6-6bb1-4ee8-8859-a5369e7210c0"
   },
   "outputs": [
    {
     "data": {
      "text/plain": [
       "0.0"
      ]
     },
     "execution_count": 24,
     "metadata": {},
     "output_type": "execute_result"
    }
   ],
   "source": [
    "np.mean(another_deviation)"
   ]
  },
  {
   "cell_type": "code",
   "execution_count": 26,
   "metadata": {
    "ExecuteTime": {
     "end_time": "2018-08-14T06:43:30.240507Z",
     "start_time": "2018-08-14T06:43:30.234389Z"
    },
    "id": "Msa8x3EMkVQJ",
    "outputId": "13f9e27a-ba0b-467a-d572-86fff203d16d"
   },
   "outputs": [
    {
     "data": {
      "text/html": [
       "<div>\n",
       "<style scoped>\n",
       "    .dataframe tbody tr th:only-of-type {\n",
       "        vertical-align: middle;\n",
       "    }\n",
       "\n",
       "    .dataframe tbody tr th {\n",
       "        vertical-align: top;\n",
       "    }\n",
       "\n",
       "    .dataframe thead th {\n",
       "        text-align: right;\n",
       "    }\n",
       "</style>\n",
       "<table border=\"1\" class=\"dataframe\">\n",
       "  <thead>\n",
       "    <tr style=\"text-align: right;\">\n",
       "      <th></th>\n",
       "      <th>score</th>\n",
       "      <th>deviation</th>\n",
       "    </tr>\n",
       "    <tr>\n",
       "      <th>student</th>\n",
       "      <th></th>\n",
       "      <th></th>\n",
       "    </tr>\n",
       "  </thead>\n",
       "  <tbody>\n",
       "    <tr>\n",
       "      <th>A</th>\n",
       "      <td>42</td>\n",
       "      <td>-13.0</td>\n",
       "    </tr>\n",
       "    <tr>\n",
       "      <th>B</th>\n",
       "      <td>69</td>\n",
       "      <td>14.0</td>\n",
       "    </tr>\n",
       "    <tr>\n",
       "      <th>C</th>\n",
       "      <td>56</td>\n",
       "      <td>1.0</td>\n",
       "    </tr>\n",
       "    <tr>\n",
       "      <th>D</th>\n",
       "      <td>41</td>\n",
       "      <td>-14.0</td>\n",
       "    </tr>\n",
       "    <tr>\n",
       "      <th>E</th>\n",
       "      <td>57</td>\n",
       "      <td>2.0</td>\n",
       "    </tr>\n",
       "    <tr>\n",
       "      <th>F</th>\n",
       "      <td>48</td>\n",
       "      <td>-7.0</td>\n",
       "    </tr>\n",
       "    <tr>\n",
       "      <th>G</th>\n",
       "      <td>65</td>\n",
       "      <td>10.0</td>\n",
       "    </tr>\n",
       "    <tr>\n",
       "      <th>H</th>\n",
       "      <td>49</td>\n",
       "      <td>-6.0</td>\n",
       "    </tr>\n",
       "    <tr>\n",
       "      <th>I</th>\n",
       "      <td>65</td>\n",
       "      <td>10.0</td>\n",
       "    </tr>\n",
       "    <tr>\n",
       "      <th>J</th>\n",
       "      <td>58</td>\n",
       "      <td>3.0</td>\n",
       "    </tr>\n",
       "  </tbody>\n",
       "</table>\n",
       "</div>"
      ],
      "text/plain": [
       "         score  deviation\n",
       "student                  \n",
       "A           42      -13.0\n",
       "B           69       14.0\n",
       "C           56        1.0\n",
       "D           41      -14.0\n",
       "E           57        2.0\n",
       "F           48       -7.0\n",
       "G           65       10.0\n",
       "H           49       -6.0\n",
       "I           65       10.0\n",
       "J           58        3.0"
      ]
     },
     "execution_count": 26,
     "metadata": {},
     "output_type": "execute_result"
    }
   ],
   "source": [
    "# хазайлтын утгуудыг нэг багана болгон дата-н дээрээ нэмж өгье.\n",
    "summary_df = scores_df.copy()\n",
    "summary_df['deviation'] = deviation\n",
    "summary_df"
   ]
  },
  {
   "cell_type": "code",
   "execution_count": 27,
   "metadata": {
    "ExecuteTime": {
     "end_time": "2018-08-14T06:43:30.245333Z",
     "start_time": "2018-08-14T06:43:30.241861Z"
    },
    "id": "IZIZzJUOkVQJ",
    "outputId": "855d7b0a-189f-4afe-c55c-904426c060cb"
   },
   "outputs": [
    {
     "data": {
      "text/plain": [
       "score        55.0\n",
       "deviation     0.0\n",
       "dtype: float64"
      ]
     },
     "execution_count": 27,
     "metadata": {},
     "output_type": "execute_result"
    }
   ],
   "source": [
    "# хазайлтуудын дундаж үргэлж тэг гараад байдаг учир ашиглагддаггүй.\n",
    "summary_df.mean()"
   ]
  },
  {
   "cell_type": "markdown",
   "metadata": {
    "id": "FylEQeDekVQK"
   },
   "source": [
    "#### 1.2.1.2 вариац (variance)"
   ]
  },
  {
   "attachments": {
    "image.png": {
     "image/png": "[encoded data removed]"
    }
   },
   "cell_type": "markdown",
   "metadata": {
    "id": "6GDGhwGLkVQL"
   },
   "source": [
    "![image.png](attachment:image.png)"
   ]
  },
  {
   "cell_type": "code",
   "execution_count": 36,
   "metadata": {
    "ExecuteTime": {
     "end_time": "2018-08-14T06:43:30.249659Z",
     "start_time": "2018-08-14T06:43:30.246233Z"
    },
    "id": "JJurtUaakVQL",
    "outputId": "59c13fec-3905-4169-edf2-ec92d02712c2"
   },
   "outputs": [
    {
     "data": {
      "text/plain": [
       "86.0"
      ]
     },
     "execution_count": 36,
     "metadata": {},
     "output_type": "execute_result"
    }
   ],
   "source": [
    "np.mean(deviation ** 2)"
   ]
  },
  {
   "cell_type": "code",
   "execution_count": 29,
   "metadata": {
    "ExecuteTime": {
     "end_time": "2018-08-14T06:43:30.253985Z",
     "start_time": "2018-08-14T06:43:30.250545Z"
    },
    "id": "WeejvydjkVQL",
    "outputId": "6793c07c-29c6-4d53-c865-494ed27f276a"
   },
   "outputs": [
    {
     "data": {
      "text/plain": [
       "86.0"
      ]
     },
     "execution_count": 29,
     "metadata": {},
     "output_type": "execute_result"
    }
   ],
   "source": [
    "np.var(scores)"
   ]
  },
  {
   "cell_type": "code",
   "execution_count": 34,
   "metadata": {
    "ExecuteTime": {
     "end_time": "2018-08-14T06:43:30.258576Z",
     "start_time": "2018-08-14T06:43:30.254851Z"
    },
    "id": "rK4JvntOkVQM",
    "outputId": "2ac4498f-16d9-4ae7-c25b-e524ffd232f0"
   },
   "outputs": [
    {
     "data": {
      "text/plain": [
       "score    95.556\n",
       "dtype: float64"
      ]
     },
     "execution_count": 34,
     "metadata": {},
     "output_type": "execute_result"
    }
   ],
   "source": [
    "scores_df.var()\n",
    "# Яагаад өөр байна вэ?\n",
    "# numpy болон pandas сан нь өөр аргаар тооцоолол хийдэг\n",
    "# sample variance ба unbiased variance гэж 2 төрөл байдаг \n",
    "# np сангийн үндсэн тохиргоо нь sample variance аргаар тооцоологддог\n",
    "# хэрвээ pandas сангаар sample variance -ийг тодорхойлохийг хүсэххийн бол ингэж параметр олгоно.\n",
    "# scores_df.var(ddof = 0)\n",
    "# sample variance - аар голдуу хэрэглэгдэнэ."
   ]
  },
  {
   "cell_type": "code",
   "execution_count": 35,
   "metadata": {
    "ExecuteTime": {
     "end_time": "2018-08-14T06:43:30.266983Z",
     "start_time": "2018-08-14T06:43:30.259624Z"
    },
    "id": "Iw1iV48rkVQM",
    "outputId": "297e3401-a35e-4e46-ef0b-9da7a4ebffd9"
   },
   "outputs": [
    {
     "data": {
      "text/html": [
       "<div>\n",
       "<style scoped>\n",
       "    .dataframe tbody tr th:only-of-type {\n",
       "        vertical-align: middle;\n",
       "    }\n",
       "\n",
       "    .dataframe tbody tr th {\n",
       "        vertical-align: top;\n",
       "    }\n",
       "\n",
       "    .dataframe thead th {\n",
       "        text-align: right;\n",
       "    }\n",
       "</style>\n",
       "<table border=\"1\" class=\"dataframe\">\n",
       "  <thead>\n",
       "    <tr style=\"text-align: right;\">\n",
       "      <th></th>\n",
       "      <th>score</th>\n",
       "      <th>deviation</th>\n",
       "      <th>square of deviation</th>\n",
       "    </tr>\n",
       "    <tr>\n",
       "      <th>student</th>\n",
       "      <th></th>\n",
       "      <th></th>\n",
       "      <th></th>\n",
       "    </tr>\n",
       "  </thead>\n",
       "  <tbody>\n",
       "    <tr>\n",
       "      <th>A</th>\n",
       "      <td>42</td>\n",
       "      <td>-13.0</td>\n",
       "      <td>169.0</td>\n",
       "    </tr>\n",
       "    <tr>\n",
       "      <th>B</th>\n",
       "      <td>69</td>\n",
       "      <td>14.0</td>\n",
       "      <td>196.0</td>\n",
       "    </tr>\n",
       "    <tr>\n",
       "      <th>C</th>\n",
       "      <td>56</td>\n",
       "      <td>1.0</td>\n",
       "      <td>1.0</td>\n",
       "    </tr>\n",
       "    <tr>\n",
       "      <th>D</th>\n",
       "      <td>41</td>\n",
       "      <td>-14.0</td>\n",
       "      <td>196.0</td>\n",
       "    </tr>\n",
       "    <tr>\n",
       "      <th>E</th>\n",
       "      <td>57</td>\n",
       "      <td>2.0</td>\n",
       "      <td>4.0</td>\n",
       "    </tr>\n",
       "    <tr>\n",
       "      <th>F</th>\n",
       "      <td>48</td>\n",
       "      <td>-7.0</td>\n",
       "      <td>49.0</td>\n",
       "    </tr>\n",
       "    <tr>\n",
       "      <th>G</th>\n",
       "      <td>65</td>\n",
       "      <td>10.0</td>\n",
       "      <td>100.0</td>\n",
       "    </tr>\n",
       "    <tr>\n",
       "      <th>H</th>\n",
       "      <td>49</td>\n",
       "      <td>-6.0</td>\n",
       "      <td>36.0</td>\n",
       "    </tr>\n",
       "    <tr>\n",
       "      <th>I</th>\n",
       "      <td>65</td>\n",
       "      <td>10.0</td>\n",
       "      <td>100.0</td>\n",
       "    </tr>\n",
       "    <tr>\n",
       "      <th>J</th>\n",
       "      <td>58</td>\n",
       "      <td>3.0</td>\n",
       "      <td>9.0</td>\n",
       "    </tr>\n",
       "  </tbody>\n",
       "</table>\n",
       "</div>"
      ],
      "text/plain": [
       "         score  deviation  square of deviation\n",
       "student                                       \n",
       "A           42      -13.0                169.0\n",
       "B           69       14.0                196.0\n",
       "C           56        1.0                  1.0\n",
       "D           41      -14.0                196.0\n",
       "E           57        2.0                  4.0\n",
       "F           48       -7.0                 49.0\n",
       "G           65       10.0                100.0\n",
       "H           49       -6.0                 36.0\n",
       "I           65       10.0                100.0\n",
       "J           58        3.0                  9.0"
      ]
     },
     "execution_count": 35,
     "metadata": {},
     "output_type": "execute_result"
    }
   ],
   "source": [
    "summary_df['square of deviation'] = np.square(deviation)\n",
    "summary_df"
   ]
  },
  {
   "cell_type": "code",
   "execution_count": null,
   "metadata": {
    "ExecuteTime": {
     "end_time": "2018-08-14T06:43:30.271609Z",
     "start_time": "2018-08-14T06:43:30.267927Z"
    },
    "id": "tLeBIVr3kVQM",
    "outputId": "e576138a-749b-47c0-8845-ebbe70a3f05d",
    "scrolled": false
   },
   "outputs": [
    {
     "data": {
      "text/plain": [
       "score                  55.0\n",
       "deviation               0.0\n",
       "square of deviation    86.0\n",
       "dtype: float64"
      ]
     },
     "execution_count": 25,
     "metadata": {},
     "output_type": "execute_result"
    }
   ],
   "source": [
    "summary_df.mean()\n",
    "# sample variance - аар вариац-ыг тооцохдоо дундажаас хазайх хазайлтуудыг квадрат зэрэгт дэвшүүлэн \n",
    "# түүний дундажаар тооцоолдог\n",
    "# тиймээс вариацийг талбайн дундаж гэж үзнэ дүрслэх тохиолдол байдаг \n",
    "# яагаад гэвэл хазайлтыг квадрат нь нэг талын урт нь хазайлттай тэнцүү \n",
    "# квдрат дөрвөлжингийн талбай юм. "
   ]
  },
  {
   "cell_type": "code",
   "execution_count": null,
   "metadata": {
    "id": "OGcqIB4ukVQM",
    "outputId": "3ba8a1eb-83af-45a9-f7b2-bc1bcbae7edf",
    "scrolled": true
   },
   "outputs": [
    {
     "data": {
      "text/plain": [
       "11.0"
      ]
     },
     "execution_count": 26,
     "metadata": {},
     "output_type": "execute_result"
    }
   ],
   "source": [
    "np.var(another_deviation)"
   ]
  },
  {
   "attachments": {
    "image.png": {
     "image/png": "[encoded data removed]"
    }
   },
   "cell_type": "markdown",
   "metadata": {
    "id": "8DgDTA_ckVQN"
   },
   "source": [
    "![image.png](attachment:image.png)"
   ]
  },
  {
   "cell_type": "markdown",
   "metadata": {
    "id": "_apvHJEFkVQN"
   },
   "source": [
    "**Эхний 10 сурагчийн англи хэлний шалгалтын онооны үзүүлэлтүүд**\n",
    "\n",
    "**Дундаж-55 оноо**\n",
    "\n",
    "**Вариац-86 оноо квадрат**"
   ]
  },
  {
   "cell_type": "markdown",
   "metadata": {
    "id": "8X2Lo_WHkVQN"
   },
   "source": [
    "#### стандарт хазайлт"
   ]
  },
  {
   "attachments": {
    "image.png": {
     "image/png": "[encoded data removed]"
    }
   },
   "cell_type": "markdown",
   "metadata": {
    "id": "h2etv28FkVQN"
   },
   "source": [
    "![image.png](attachment:image.png)"
   ]
  },
  {
   "cell_type": "code",
   "execution_count": 37,
   "metadata": {
    "ExecuteTime": {
     "end_time": "2018-08-14T06:43:30.276008Z",
     "start_time": "2018-08-14T06:43:30.272493Z"
    },
    "id": "Mv3M-op1kVQN",
    "outputId": "db940065-e910-43ee-9399-c929a25eea83"
   },
   "outputs": [
    {
     "data": {
      "text/plain": [
       "9.273618495495704"
      ]
     },
     "execution_count": 37,
     "metadata": {},
     "output_type": "execute_result"
    }
   ],
   "source": [
    "np.sqrt(np.var(scores))"
   ]
  },
  {
   "cell_type": "code",
   "execution_count": 38,
   "metadata": {
    "ExecuteTime": {
     "end_time": "2018-08-14T06:43:30.280036Z",
     "start_time": "2018-08-14T06:43:30.277056Z"
    },
    "id": "t9oIwT6OkVQO",
    "outputId": "777a1c06-7c1b-4a9c-878b-5312f9ab21b3"
   },
   "outputs": [
    {
     "data": {
      "text/plain": [
       "9.273618495495704"
      ]
     },
     "execution_count": 38,
     "metadata": {},
     "output_type": "execute_result"
    }
   ],
   "source": [
    "np.std(scores)\n",
    "# англи хэлний хичээлийн стандарт хазайлт"
   ]
  },
  {
   "cell_type": "markdown",
   "metadata": {
    "id": "4DhW8LN2kVQO"
   },
   "source": [
    "### Range ба квартил"
   ]
  },
  {
   "cell_type": "markdown",
   "metadata": {
    "id": "CG4QClb2kVQO"
   },
   "source": [
    "#### Range\n",
    "\n",
    "хамгийн их ба бага утгаар тархалтыг илэрхийлэх арга юм \n",
    "зөрүү их бол их хүрээнд тархасан бага бол бага хүрээнд тархснйыг илэрхийлдэг"
   ]
  },
  {
   "attachments": {
    "image.png": {
     "image/png": "[encoded data removed]"
    }
   },
   "cell_type": "markdown",
   "metadata": {
    "id": "wVHMw7sLkVQO"
   },
   "source": [
    "![image.png](attachment:image.png)"
   ]
  },
  {
   "cell_type": "code",
   "execution_count": 39,
   "metadata": {
    "ExecuteTime": {
     "end_time": "2018-08-14T06:43:30.284214Z",
     "start_time": "2018-08-14T06:43:30.280994Z"
    },
    "id": "be0GImUwkVQO",
    "outputId": "26c5aa0c-0fd4-472e-d2af-b87c5c1be48e"
   },
   "outputs": [
    {
     "data": {
      "text/plain": [
       "28"
      ]
     },
     "execution_count": 39,
     "metadata": {},
     "output_type": "execute_result"
    }
   ],
   "source": [
    "np.max(scores) - np.min(scores)"
   ]
  },
  {
   "cell_type": "markdown",
   "metadata": {
    "id": "_cFhJ_VnkVQP"
   },
   "source": [
    "#### interquartile range"
   ]
  },
  {
   "attachments": {
    "image.png": {
     "image/png": "[encoded data removed]"
    }
   },
   "cell_type": "markdown",
   "metadata": {
    "id": "v4zZSOaRkVQP"
   },
   "source": [
    "![image.png](attachment:image.png)"
   ]
  },
  {
   "cell_type": "code",
   "execution_count": 41,
   "metadata": {
    "id": "9eOdJ1TJkVQP",
    "outputId": "6f4cd1d9-327c-4b80-abbf-e4ffb5c8a14d"
   },
   "outputs": [
    {
     "data": {
      "text/plain": [
       "15.0"
      ]
     },
     "execution_count": 41,
     "metadata": {},
     "output_type": "execute_result"
    }
   ],
   "source": [
    "# вариац нь арифметик дундажаар тодорхойлох тархалтын хэмжигдэхүүн бол \n",
    "# quartile - ийн хүрээ нь median- аар тодорхойлогдох тархалтын талбайн хэмжигдэхүүн юм.\n",
    "scores_Q1 = np.percentile(scores, 25)\n",
    "scores_Q3 = np.percentile(scores, 75)\n",
    "scores_IQR = scores_Q3 - scores_Q1\n",
    "scores_IQR"
   ]
  },
  {
   "cell_type": "markdown",
   "metadata": {
    "id": "c7hNFl4ZkVQP"
   },
   "source": [
    "### датаны тойм статистик"
   ]
  },
  {
   "cell_type": "code",
   "execution_count": 42,
   "metadata": {
    "ExecuteTime": {
     "end_time": "2018-08-14T06:43:30.296046Z",
     "start_time": "2018-08-14T06:43:30.290147Z"
    },
    "id": "nBnd3byLkVQP",
    "outputId": "1b62cc58-c151-49e4-f5fd-10a81da31f19"
   },
   "outputs": [
    {
     "data": {
      "text/plain": [
       "count    10.000\n",
       "mean     55.000\n",
       "std       9.775\n",
       "min      41.000\n",
       "25%      48.250\n",
       "50%      56.500\n",
       "75%      63.250\n",
       "max      69.000\n",
       "dtype: float64"
      ]
     },
     "execution_count": 42,
     "metadata": {},
     "output_type": "execute_result"
    }
   ],
   "source": [
    "pd.Series(scores).describe()"
   ]
  },
  {
   "cell_type": "markdown",
   "metadata": {
    "id": "fz2jOP2BkVQQ"
   },
   "source": [
    "## Normalization of data\n",
    "\n",
    "датаг нормалчиллах"
   ]
  },
  {
   "cell_type": "markdown",
   "metadata": {
    "id": "UZusZb1OkVQQ"
   },
   "source": [
    "шалгалт1: 60 (mean=30)\n",
    "\n",
    "шалгалт2 : 60 (mean=90)"
   ]
  },
  {
   "cell_type": "markdown",
   "metadata": {
    "id": "47XM-CIikVQQ"
   },
   "source": [
    "### standardization\n",
    "\n",
    "датанаас дундажийг хассан стандарт хазайлтад хуваахыг стандартчилал гэнэ."
   ]
  },
  {
   "attachments": {
    "image.png": {
     "image/png": "[encoded data removed]"
    }
   },
   "cell_type": "markdown",
   "metadata": {
    "id": "VL0KoqcFkVQQ"
   },
   "source": [
    "![image.png](attachment:image.png)"
   ]
  },
  {
   "cell_type": "code",
   "execution_count": 47,
   "metadata": {
    "ExecuteTime": {
     "end_time": "2018-08-14T06:43:30.299923Z",
     "start_time": "2018-08-14T06:43:30.297056Z"
    },
    "id": "IuiLjR2LkVQR",
    "outputId": "d404554a-080b-4cb0-e162-c8500bf74bd5",
    "scrolled": true
   },
   "outputs": [
    {
     "data": {
      "text/plain": [
       "array([-1.402,  1.51 ,  0.108, -1.51 ,  0.216, -0.755,  1.078, -0.647,\n",
       "        1.078,  0.323])"
      ]
     },
     "execution_count": 47,
     "metadata": {},
     "output_type": "execute_result"
    }
   ],
   "source": [
    "# cтандартчилагдсан дата, эсвэл z-score гэж нэрлэнэ.\n",
    "z = (scores-np.mean(scores))/np.std(scores)\n",
    "z"
   ]
  },
  {
   "cell_type": "code",
   "execution_count": 51,
   "metadata": {
    "ExecuteTime": {
     "end_time": "2018-08-14T06:43:30.304016Z",
     "start_time": "2018-08-14T06:43:30.300786Z"
    },
    "id": "fxc8Zr7akVQR",
    "outputId": "a8b88301-5281-49a4-cb42-b91ffdf4c98b"
   },
   "outputs": [
    {
     "data": {
      "text/plain": [
       "(-1.6653345369377347e-17, 0.9999999999999999)"
      ]
     },
     "execution_count": 51,
     "metadata": {},
     "output_type": "execute_result"
    }
   ],
   "source": [
    "# эндээс стандарчилна гэдэг нь дундажийг 0 стандарт хазайлтыг 1 болгоно \n",
    "# 1 үзүүлэлт рүү хувиргахыг хэлдэг.\n",
    "# ингэж ижил стандартад оруулснаар датаны байршилын харьцангүй хамааралаар дата тус бүрийг ойлгож болно.\n",
    "np.mean(z), np.std(z)"
   ]
  },
  {
   "cell_type": "markdown",
   "metadata": {
    "id": "Fc8g_gNYkVQR"
   },
   "source": [
    "### Deviation value\n",
    "\n",
    "хазайлтыг утга: арифметик дундажийг 50 стандарт хазайлтыг 10 болгохын тулд стандартчилсан утгыг хэлнэ."
   ]
  },
  {
   "attachments": {
    "image.png": {
     "image/png": "[encoded data removed]"
    }
   },
   "cell_type": "markdown",
   "metadata": {
    "id": "m0fnQbbYkVQR"
   },
   "source": [
    "![image.png](attachment:image.png)"
   ]
  },
  {
   "cell_type": "code",
   "execution_count": 52,
   "metadata": {
    "ExecuteTime": {
     "end_time": "2018-08-14T06:43:30.307237Z",
     "start_time": "2018-08-14T06:43:30.304893Z"
    },
    "id": "8Bb95zvfkVQR",
    "outputId": "beb54b1e-cf73-4dbb-a393-f5aa6d48af1a"
   },
   "outputs": [
    {
     "data": {
      "text/plain": [
       "array([35.982, 65.097, 51.078, 34.903, 52.157, 42.452, 60.783, 43.53 ,\n",
       "       60.783, 53.235])"
      ]
     },
     "execution_count": 52,
     "metadata": {},
     "output_type": "execute_result"
    }
   ],
   "source": [
    "z = 50 + 10 * (scores - np.mean(scores)) / np.std(scores)\n",
    "z"
   ]
  },
  {
   "cell_type": "code",
   "execution_count": 54,
   "metadata": {
    "ExecuteTime": {
     "end_time": "2018-08-14T06:43:30.315638Z",
     "start_time": "2018-08-14T06:43:30.308810Z"
    },
    "id": "-ciBS8N8kVQS",
    "outputId": "89d2f3de-71a7-4c51-db7f-6ee2f15d5789",
    "scrolled": true
   },
   "outputs": [
    {
     "data": {
      "text/html": [
       "<div>\n",
       "<style scoped>\n",
       "    .dataframe tbody tr th:only-of-type {\n",
       "        vertical-align: middle;\n",
       "    }\n",
       "\n",
       "    .dataframe tbody tr th {\n",
       "        vertical-align: top;\n",
       "    }\n",
       "\n",
       "    .dataframe thead th {\n",
       "        text-align: right;\n",
       "    }\n",
       "</style>\n",
       "<table border=\"1\" class=\"dataframe\">\n",
       "  <thead>\n",
       "    <tr style=\"text-align: right;\">\n",
       "      <th></th>\n",
       "      <th>score</th>\n",
       "      <th>deviation value</th>\n",
       "    </tr>\n",
       "    <tr>\n",
       "      <th>student</th>\n",
       "      <th></th>\n",
       "      <th></th>\n",
       "    </tr>\n",
       "  </thead>\n",
       "  <tbody>\n",
       "    <tr>\n",
       "      <th>A</th>\n",
       "      <td>42</td>\n",
       "      <td>35.982</td>\n",
       "    </tr>\n",
       "    <tr>\n",
       "      <th>B</th>\n",
       "      <td>69</td>\n",
       "      <td>65.097</td>\n",
       "    </tr>\n",
       "    <tr>\n",
       "      <th>C</th>\n",
       "      <td>56</td>\n",
       "      <td>51.078</td>\n",
       "    </tr>\n",
       "    <tr>\n",
       "      <th>D</th>\n",
       "      <td>41</td>\n",
       "      <td>34.903</td>\n",
       "    </tr>\n",
       "    <tr>\n",
       "      <th>E</th>\n",
       "      <td>57</td>\n",
       "      <td>52.157</td>\n",
       "    </tr>\n",
       "    <tr>\n",
       "      <th>F</th>\n",
       "      <td>48</td>\n",
       "      <td>42.452</td>\n",
       "    </tr>\n",
       "    <tr>\n",
       "      <th>G</th>\n",
       "      <td>65</td>\n",
       "      <td>60.783</td>\n",
       "    </tr>\n",
       "    <tr>\n",
       "      <th>H</th>\n",
       "      <td>49</td>\n",
       "      <td>43.530</td>\n",
       "    </tr>\n",
       "    <tr>\n",
       "      <th>I</th>\n",
       "      <td>65</td>\n",
       "      <td>60.783</td>\n",
       "    </tr>\n",
       "    <tr>\n",
       "      <th>J</th>\n",
       "      <td>58</td>\n",
       "      <td>53.235</td>\n",
       "    </tr>\n",
       "  </tbody>\n",
       "</table>\n",
       "</div>"
      ],
      "text/plain": [
       "         score  deviation value\n",
       "student                        \n",
       "A           42           35.982\n",
       "B           69           65.097\n",
       "C           56           51.078\n",
       "D           41           34.903\n",
       "E           57           52.157\n",
       "F           48           42.452\n",
       "G           65           60.783\n",
       "H           49           43.530\n",
       "I           65           60.783\n",
       "J           58           53.235"
      ]
     },
     "execution_count": 54,
     "metadata": {},
     "output_type": "execute_result"
    }
   ],
   "source": [
    "scores_df['deviation value'] = z\n",
    "scores_df\n",
    "# эндээс харахад c, e, j нар дундаж оноо авсан бол\n",
    "# a сурагч бол дундаас нилээн бага b сургач бол дундаас дээгүүр оноо авсан харагдаж байна"
   ]
  },
  {
   "cell_type": "markdown",
   "metadata": {},
   "source": [
    "Ингэж нормалчилсанаар дундаж эсвэл вариацаар хамаарахгүйгээр датаны байршилын харьцангүй хамааралыг мэдэж болох хэмжүүрээс стандарчилал ба хазайлтын утга авч үзлээ"
   ]
  },
  {
   "cell_type": "markdown",
   "metadata": {
    "id": "csgJFxQHkVQS"
   },
   "source": [
    "## Visualization of data"
   ]
  },
  {
   "cell_type": "code",
   "execution_count": 60,
   "metadata": {
    "ExecuteTime": {
     "end_time": "2018-08-14T06:43:30.323447Z",
     "start_time": "2018-08-14T06:43:30.317159Z"
    },
    "id": "Wl3CUAHwkVQS",
    "outputId": "53c46d9d-e153-4088-f2ca-456d4d1ed1b0"
   },
   "outputs": [
    {
     "data": {
      "text/plain": [
       "count    50.00\n",
       "mean     58.38\n",
       "std       9.80\n",
       "min      37.00\n",
       "25%      54.00\n",
       "50%      57.50\n",
       "75%      65.00\n",
       "max      79.00\n",
       "dtype: float64"
      ]
     },
     "execution_count": 60,
     "metadata": {},
     "output_type": "execute_result"
    }
   ],
   "source": [
    "# нийт сурагчийн хувьд авч үзий.\n",
    "english_scores = np.array(df['english'])\n",
    "pd.Series(english_scores).describe()"
   ]
  },
  {
   "cell_type": "markdown",
   "metadata": {
    "id": "0stk7hQ2kVQS"
   },
   "source": [
    "### Frequency distribution table\n",
    "\n",
    "датаны тарацыг нарийн мэдэхийн тулд датаны утгыг хэд хэдэн завсарт хуваана завсар тус бүрт хэдэн датаг орж байгааг тоолдог арга нь Frequency distribution table гэдэг.\n",
    "\n",
    "Өөрөөр хэлбэл завсар ба датаны тоог хүснэгтээр нэгтгэхыг хэлдэг."
   ]
  },
  {
   "attachments": {
    "image.png": {
     "image/png": "[encoded data removed]"
    }
   },
   "cell_type": "markdown",
   "metadata": {
    "id": "NU0kMMQnkVQS"
   },
   "source": [
    "![image.png](attachment:image.png)"
   ]
  },
  {
   "cell_type": "code",
   "execution_count": 62,
   "metadata": {
    "ExecuteTime": {
     "end_time": "2018-08-14T06:43:30.327596Z",
     "start_time": "2018-08-14T06:43:30.324484Z"
    },
    "id": "x6n-D324kVQT",
    "outputId": "f8918d43-792f-4d7c-d253-fe28b5d958b2"
   },
   "outputs": [
    {
     "data": {
      "text/plain": [
       "array([ 0,  0,  0,  2,  8, 16, 18,  6,  0,  0])"
      ]
     },
     "execution_count": 62,
     "metadata": {},
     "output_type": "execute_result"
    }
   ],
   "source": [
    "freq, _ = np.histogram(english_scores, bins=10, range=(0, 100))\n",
    "freq"
   ]
  },
  {
   "cell_type": "code",
   "execution_count": 63,
   "metadata": {
    "ExecuteTime": {
     "end_time": "2018-08-14T06:43:30.335597Z",
     "start_time": "2018-08-14T06:43:30.329049Z"
    },
    "id": "Q4gy-YELkVQT",
    "outputId": "a8116cb7-8ca3-4372-849d-764989500da8",
    "scrolled": false
   },
   "outputs": [
    {
     "data": {
      "text/html": [
       "<div>\n",
       "<style scoped>\n",
       "    .dataframe tbody tr th:only-of-type {\n",
       "        vertical-align: middle;\n",
       "    }\n",
       "\n",
       "    .dataframe tbody tr th {\n",
       "        vertical-align: top;\n",
       "    }\n",
       "\n",
       "    .dataframe thead th {\n",
       "        text-align: right;\n",
       "    }\n",
       "</style>\n",
       "<table border=\"1\" class=\"dataframe\">\n",
       "  <thead>\n",
       "    <tr style=\"text-align: right;\">\n",
       "      <th></th>\n",
       "      <th>frequency</th>\n",
       "    </tr>\n",
       "    <tr>\n",
       "      <th>class</th>\n",
       "      <th></th>\n",
       "    </tr>\n",
       "  </thead>\n",
       "  <tbody>\n",
       "    <tr>\n",
       "      <th>0~10</th>\n",
       "      <td>0</td>\n",
       "    </tr>\n",
       "    <tr>\n",
       "      <th>10~20</th>\n",
       "      <td>0</td>\n",
       "    </tr>\n",
       "    <tr>\n",
       "      <th>20~30</th>\n",
       "      <td>0</td>\n",
       "    </tr>\n",
       "    <tr>\n",
       "      <th>30~40</th>\n",
       "      <td>2</td>\n",
       "    </tr>\n",
       "    <tr>\n",
       "      <th>40~50</th>\n",
       "      <td>8</td>\n",
       "    </tr>\n",
       "    <tr>\n",
       "      <th>50~60</th>\n",
       "      <td>16</td>\n",
       "    </tr>\n",
       "    <tr>\n",
       "      <th>60~70</th>\n",
       "      <td>18</td>\n",
       "    </tr>\n",
       "    <tr>\n",
       "      <th>70~80</th>\n",
       "      <td>6</td>\n",
       "    </tr>\n",
       "    <tr>\n",
       "      <th>80~90</th>\n",
       "      <td>0</td>\n",
       "    </tr>\n",
       "    <tr>\n",
       "      <th>90~100</th>\n",
       "      <td>0</td>\n",
       "    </tr>\n",
       "  </tbody>\n",
       "</table>\n",
       "</div>"
      ],
      "text/plain": [
       "        frequency\n",
       "class            \n",
       "0~10            0\n",
       "10~20           0\n",
       "20~30           0\n",
       "30~40           2\n",
       "40~50           8\n",
       "50~60          16\n",
       "60~70          18\n",
       "70~80           6\n",
       "80~90           0\n",
       "90~100          0"
      ]
     },
     "execution_count": 63,
     "metadata": {},
     "output_type": "execute_result"
    }
   ],
   "source": [
    "# 0~10, 10~20, ... Гэж нэрлэгдсэн мөрүүдийн жагсаалтыг үүсгээрэй\n",
    "freq_class = [f'{i}~{i+10}' for i in range(0, 100, 10)]\n",
    "# freq_class-г индексээр DataFrame үүсгэ\n",
    "freq_dist_df = pd.DataFrame({'frequency':freq},\n",
    "                            index=pd.Index(freq_class,\n",
    "                                           name='class'))\n",
    "freq_dist_df"
   ]
  },
  {
   "cell_type": "code",
   "execution_count": 65,
   "metadata": {
    "ExecuteTime": {
     "end_time": "2018-08-14T06:43:30.339751Z",
     "start_time": "2018-08-14T06:43:30.336611Z"
    },
    "id": "H2nMxN_3kVQT",
    "outputId": "4be00540-5b06-4834-a7e0-99fa7b1d0ec4",
    "scrolled": true
   },
   "outputs": [
    {
     "data": {
      "text/plain": [
       "[5, 15, 25, 35, 45, 55, 65, 75, 85, 95]"
      ]
     },
     "execution_count": 65,
     "metadata": {},
     "output_type": "execute_result"
    }
   ],
   "source": [
    "# классын медиан утга олдог \n",
    "# жишээн table - дээрхиэс 60-70 классын утга нь 65 болно.\n",
    "class_value = [(i+(i+10))//2 for i in range(0, 100, 10)]\n",
    "class_value"
   ]
  },
  {
   "cell_type": "code",
   "execution_count": 66,
   "metadata": {
    "ExecuteTime": {
     "end_time": "2018-08-14T06:43:30.343938Z",
     "start_time": "2018-08-14T06:43:30.340628Z"
    },
    "id": "FcnS2oudkVQT",
    "outputId": "cfac7036-d930-4ae2-dfa6-639ce693da8f"
   },
   "outputs": [
    {
     "data": {
      "text/plain": [
       "array([0.  , 0.  , 0.  , 0.04, 0.16, 0.32, 0.36, 0.12, 0.  , 0.  ])"
      ]
     },
     "execution_count": 66,
     "metadata": {},
     "output_type": "execute_result"
    }
   ],
   "source": [
    "# нийт датанаас тухайн классын дата хэд орчим хувийг эзэлж байгааг харна.\n",
    "rel_freq = freq / freq.sum()\n",
    "rel_freq"
   ]
  },
  {
   "cell_type": "code",
   "execution_count": 67,
   "metadata": {
    "ExecuteTime": {
     "end_time": "2018-08-14T06:43:30.349136Z",
     "start_time": "2018-08-14T06:43:30.344853Z"
    },
    "id": "bYU1qvaJkVQU",
    "outputId": "8d5b4cef-d654-4975-98fd-6b67cfaa5b36"
   },
   "outputs": [
    {
     "data": {
      "text/plain": [
       "array([0.  , 0.  , 0.  , 0.04, 0.2 , 0.52, 0.88, 1.  , 1.  , 1.  ])"
      ]
     },
     "execution_count": 67,
     "metadata": {},
     "output_type": "execute_result"
    }
   ],
   "source": [
    "# тухайг класс хүртэл relative frequency хуримтлагдсан нийлбэрээр илэрхийлэгддэг.\n",
    "cum_rel_freq = np.cumsum(rel_freq)\n",
    "cum_rel_freq"
   ]
  },
  {
   "cell_type": "code",
   "execution_count": 68,
   "metadata": {
    "ExecuteTime": {
     "end_time": "2018-08-14T06:43:30.358509Z",
     "start_time": "2018-08-14T06:43:30.350057Z"
    },
    "id": "12jaLuqzkVQU",
    "outputId": "3ec6a0ec-0520-40fb-bfac-e81b8324c5cb"
   },
   "outputs": [
    {
     "data": {
      "text/html": [
       "<div>\n",
       "<style scoped>\n",
       "    .dataframe tbody tr th:only-of-type {\n",
       "        vertical-align: middle;\n",
       "    }\n",
       "\n",
       "    .dataframe tbody tr th {\n",
       "        vertical-align: top;\n",
       "    }\n",
       "\n",
       "    .dataframe thead th {\n",
       "        text-align: right;\n",
       "    }\n",
       "</style>\n",
       "<table border=\"1\" class=\"dataframe\">\n",
       "  <thead>\n",
       "    <tr style=\"text-align: right;\">\n",
       "      <th></th>\n",
       "      <th>class value</th>\n",
       "      <th>frequency</th>\n",
       "      <th>relative frequency</th>\n",
       "      <th>cumulative relative frequency</th>\n",
       "    </tr>\n",
       "    <tr>\n",
       "      <th>class</th>\n",
       "      <th></th>\n",
       "      <th></th>\n",
       "      <th></th>\n",
       "      <th></th>\n",
       "    </tr>\n",
       "  </thead>\n",
       "  <tbody>\n",
       "    <tr>\n",
       "      <th>0~10</th>\n",
       "      <td>5</td>\n",
       "      <td>0</td>\n",
       "      <td>0.00</td>\n",
       "      <td>0.00</td>\n",
       "    </tr>\n",
       "    <tr>\n",
       "      <th>10~20</th>\n",
       "      <td>15</td>\n",
       "      <td>0</td>\n",
       "      <td>0.00</td>\n",
       "      <td>0.00</td>\n",
       "    </tr>\n",
       "    <tr>\n",
       "      <th>20~30</th>\n",
       "      <td>25</td>\n",
       "      <td>0</td>\n",
       "      <td>0.00</td>\n",
       "      <td>0.00</td>\n",
       "    </tr>\n",
       "    <tr>\n",
       "      <th>30~40</th>\n",
       "      <td>35</td>\n",
       "      <td>2</td>\n",
       "      <td>0.04</td>\n",
       "      <td>0.04</td>\n",
       "    </tr>\n",
       "    <tr>\n",
       "      <th>40~50</th>\n",
       "      <td>45</td>\n",
       "      <td>8</td>\n",
       "      <td>0.16</td>\n",
       "      <td>0.20</td>\n",
       "    </tr>\n",
       "    <tr>\n",
       "      <th>50~60</th>\n",
       "      <td>55</td>\n",
       "      <td>16</td>\n",
       "      <td>0.32</td>\n",
       "      <td>0.52</td>\n",
       "    </tr>\n",
       "    <tr>\n",
       "      <th>60~70</th>\n",
       "      <td>65</td>\n",
       "      <td>18</td>\n",
       "      <td>0.36</td>\n",
       "      <td>0.88</td>\n",
       "    </tr>\n",
       "    <tr>\n",
       "      <th>70~80</th>\n",
       "      <td>75</td>\n",
       "      <td>6</td>\n",
       "      <td>0.12</td>\n",
       "      <td>1.00</td>\n",
       "    </tr>\n",
       "    <tr>\n",
       "      <th>80~90</th>\n",
       "      <td>85</td>\n",
       "      <td>0</td>\n",
       "      <td>0.00</td>\n",
       "      <td>1.00</td>\n",
       "    </tr>\n",
       "    <tr>\n",
       "      <th>90~100</th>\n",
       "      <td>95</td>\n",
       "      <td>0</td>\n",
       "      <td>0.00</td>\n",
       "      <td>1.00</td>\n",
       "    </tr>\n",
       "  </tbody>\n",
       "</table>\n",
       "</div>"
      ],
      "text/plain": [
       "        class value  frequency  relative frequency  \\\n",
       "class                                                \n",
       "0~10              5          0                0.00   \n",
       "10~20            15          0                0.00   \n",
       "20~30            25          0                0.00   \n",
       "30~40            35          2                0.04   \n",
       "40~50            45          8                0.16   \n",
       "50~60            55         16                0.32   \n",
       "60~70            65         18                0.36   \n",
       "70~80            75          6                0.12   \n",
       "80~90            85          0                0.00   \n",
       "90~100           95          0                0.00   \n",
       "\n",
       "        cumulative relative frequency  \n",
       "class                                  \n",
       "0~10                             0.00  \n",
       "10~20                            0.00  \n",
       "20~30                            0.00  \n",
       "30~40                            0.04  \n",
       "40~50                            0.20  \n",
       "50~60                            0.52  \n",
       "60~70                            0.88  \n",
       "70~80                            1.00  \n",
       "80~90                            1.00  \n",
       "90~100                           1.00  "
      ]
     },
     "execution_count": 68,
     "metadata": {},
     "output_type": "execute_result"
    }
   ],
   "source": [
    "# бүгдийн нэгтгээд харий\n",
    "freq_dist_df['class value'] = class_value\n",
    "freq_dist_df['relative frequency'] = rel_freq\n",
    "freq_dist_df['cumulative relative frequency'] = cum_rel_freq\n",
    "freq_dist_df = freq_dist_df[['class value', 'frequency',\n",
    "                             'relative frequency', 'cumulative relative frequency']]\n",
    "\n",
    "freq_dist_df"
   ]
  },
  {
   "cell_type": "markdown",
   "metadata": {
    "id": "oNzE9L8DkVQU"
   },
   "source": [
    "#### Mode review\n",
    "\n",
    "датаны хамгийн их утга\n",
    "\n",
    "жишээн нь: class - ын өргөнийг 4 оноо болгон тархалтын давтамжийн хүснэгтийг байгуулвал моод нь 66 болно."
   ]
  },
  {
   "cell_type": "code",
   "execution_count": 69,
   "metadata": {
    "ExecuteTime": {
     "end_time": "2018-08-14T06:43:30.362749Z",
     "start_time": "2018-08-14T06:43:30.359494Z"
    },
    "id": "gp-9Q_ktkVQU",
    "outputId": "079e94b6-e410-420a-d93c-88660ebd7c44"
   },
   "outputs": [
    {
     "data": {
      "text/plain": [
       "65"
      ]
     },
     "execution_count": 69,
     "metadata": {},
     "output_type": "execute_result"
    }
   ],
   "source": [
    "freq_dist_df.loc[freq_dist_df['frequency'].idxmax(), 'class value']"
   ]
  },
  {
   "cell_type": "markdown",
   "metadata": {
    "id": "6fgY9LyzkVQV"
   },
   "source": [
    "### Histogram"
   ]
  },
  {
   "cell_type": "code",
   "execution_count": 70,
   "metadata": {
    "ExecuteTime": {
     "end_time": "2018-08-14T06:43:30.433997Z",
     "start_time": "2018-08-14T06:43:30.363672Z"
    },
    "id": "7GZ3ufstkVQV"
   },
   "outputs": [],
   "source": [
    "# Matplotlib-н pyplot тоделыг plt гэсэн нэрээр дуудна\n",
    "import matplotlib.pyplot as plt"
   ]
  },
  {
   "cell_type": "code",
   "execution_count": 71,
   "metadata": {
    "ExecuteTime": {
     "end_time": "2018-08-14T06:43:30.545265Z",
     "start_time": "2018-08-14T06:43:30.435106Z"
    },
    "id": "0S--xmKAkVQV",
    "outputId": "4cf43b46-dfae-455a-b58f-95764af05060"
   },
   "outputs": [
    {
     "data": {
      "image/png": "[encoded data removed]",
      "text/plain": [
       "<Figure size 720x432 with 1 Axes>"
      ]
     },
     "metadata": {
      "needs_background": "light"
     },
     "output_type": "display_data"
    }
   ],
   "source": [
    "fig = plt.figure(figsize=(10, 6))\n",
    "# 1 × 1 талбайг тодорхойлж, талбайг нэг хэсэгт зурсан гэсэн үг юм.\n",
    "ax = fig.add_subplot(111)\n",
    "\n",
    "freq, _, _ = ax.hist(english_scores, bins=10, range=(0, 100))\n",
    "\n",
    "ax.set_xlabel('score')\n",
    "\n",
    "ax.set_ylabel('person number')\n",
    "# X тэнхлэгийг 0, 10, 20, ..., 100 хуваарьт хуваана\n",
    "ax.set_xticks(np.linspace(0, 100, 10+1))\n",
    "# Y тэнхлэгийг 0, 1, 2, ... гэж хуваадаг.\n",
    "ax.set_yticks(np.arange(0, freq.max()+1))\n",
    "\n",
    "plt.show()"
   ]
  },
  {
   "cell_type": "code",
   "execution_count": 72,
   "metadata": {
    "ExecuteTime": {
     "end_time": "2018-08-14T06:43:30.697705Z",
     "start_time": "2018-08-14T06:43:30.546461Z"
    },
    "id": "MeWZTieCkVQV",
    "outputId": "99a67984-16a3-4990-bc20-d65aac3a6f4f",
    "scrolled": true
   },
   "outputs": [
    {
     "data": {
      "image/png": "[encoded data removed]",
      "text/plain": [
       "<Figure size 720x432 with 1 Axes>"
      ]
     },
     "metadata": {
      "needs_background": "light"
     },
     "output_type": "display_data"
    }
   ],
   "source": [
    "fig = plt.figure(figsize=(10, 6))\n",
    "ax = fig.add_subplot(111)\n",
    "# классын тоог 25 болгоод харвал\n",
    "freq, _ , _ = ax.hist(english_scores, bins=25, range=(0, 100))\n",
    "ax.set_xlabel('score')\n",
    "ax.set_ylabel('person number')\n",
    "ax.set_xticks(np.linspace(0, 100, 25+1))\n",
    "ax.set_yticks(np.arange(0, freq.max()+1))\n",
    "plt.show()"
   ]
  },
  {
   "cell_type": "code",
   "execution_count": 74,
   "metadata": {
    "ExecuteTime": {
     "end_time": "2018-08-14T06:44:31.768785Z",
     "start_time": "2018-08-14T06:44:31.512798Z"
    },
    "id": "kwHUi0qHkVQW",
    "outputId": "bddaa0b7-466d-41b4-8b62-8211286546f9",
    "scrolled": true
   },
   "outputs": [
    {
     "data": {
      "image/png": "[encoded data removed]",
      "text/plain": [
       "<Figure size 720x432 with 2 Axes>"
      ]
     },
     "metadata": {
      "needs_background": "light"
     },
     "output_type": "display_data"
    }
   ],
   "source": [
    "fig = plt.figure(figsize=(10, 6))\n",
    "ax1 = fig.add_subplot(111)\n",
    "\n",
    "ax2 = ax1.twinx()\n",
    "\n",
    "\n",
    "weights = np.ones_like(english_scores) / len(english_scores)\n",
    "rel_freq, _, _ = ax1.hist(english_scores, bins=25,\n",
    "                          range=(0, 100), weights=weights)\n",
    "\n",
    "cum_rel_freq = np.cumsum(rel_freq)\n",
    "class_value = [(i+(i+4))//2 for i in range(0, 100, 4)]\n",
    "\n",
    "#ls аргументыг '--' гэж тохируу тасархай шугамыг зурна\n",
    "# marker -г 'o'гэж тохируулан датаг цэгээр дүрслэнэ.\n",
    "# Хэрэв аргументийн өнгийг 'gray' гэж тохируулсан бол саарлаар дүрслэгднэ.\n",
    "ax2.plot(class_value, cum_rel_freq,\n",
    "         ls='--', marker='o', color='gray')\n",
    "\n",
    "ax2.grid()\n",
    "\n",
    "ax1.set_xlabel('score')\n",
    "ax1.set_ylabel('relative frequency')\n",
    "ax2.set_ylabel('cumulative relative frequency')\n",
    "ax1.set_xticks(np.linspace(0, 100, 25+1))\n",
    "\n",
    "plt.show()\n",
    "# тухайн класс хүртэл харьцангүй давтамжын хуримтлагдсан нийлбэр дүрслэгдэж байна."
   ]
  },
  {
   "cell_type": "markdown",
   "metadata": {
    "id": "-C9xb7y9kVQW"
   },
   "source": [
    "### Box plot"
   ]
  },
  {
   "attachments": {
    "image.png": {
     "image/png": "[encoded data removed]"
    }
   },
   "cell_type": "markdown",
   "metadata": {
    "id": "29oU5W8qkVQW"
   },
   "source": [
    "![image.png](attachment:image.png)"
   ]
  },
  {
   "cell_type": "code",
   "execution_count": 75,
   "metadata": {
    "ExecuteTime": {
     "end_time": "2018-08-14T06:43:30.920657Z",
     "start_time": "2018-08-14T06:43:30.869261Z"
    },
    "id": "1Sv6g7hkkVQW",
    "outputId": "26b97de1-b170-4886-b78c-975f7f9ff0a7",
    "scrolled": false
   },
   "outputs": [
    {
     "data": {
      "image/png": "[encoded data removed]",
      "text/plain": [
       "<Figure size 360x432 with 1 Axes>"
      ]
     },
     "metadata": {
      "needs_background": "light"
     },
     "output_type": "display_data"
    }
   ],
   "source": [
    "fig = plt.figure(figsize=(5, 6))\n",
    "ax = fig.add_subplot(111)\n",
    "ax.boxplot(english_scores, labels=['english'])\n",
    "\n",
    "plt.show()"
   ]
  }
 ],
 "metadata": {
  "colab": {
   "collapsed_sections": [
    "J2dhxjCxkVP-",
    "UbjpQ6FIkVQC",
    "ObuqrvIukVQF",
    "8X2Lo_WHkVQN",
    "4DhW8LN2kVQO",
    "CG4QClb2kVQO",
    "_cFhJ_VnkVQP",
    "c7hNFl4ZkVQP",
    "47XM-CIikVQQ",
    "Fc8g_gNYkVQR",
    "0stk7hQ2kVQS",
    "oNzE9L8DkVQU",
    "6fgY9LyzkVQV",
    "-C9xb7y9kVQW"
   ],
   "name": "video02.ipynb",
   "provenance": []
  },
  "kernelspec": {
   "display_name": "Python 3 (ipykernel)",
   "language": "python",
   "name": "python3"
  },
  "language_info": {
   "codemirror_mode": {
    "name": "ipython",
    "version": 3
   },
   "file_extension": ".py",
   "mimetype": "text/x-python",
   "name": "python",
   "nbconvert_exporter": "python",
   "pygments_lexer": "ipython3",
   "version": "3.9.7"
  },
  "toc": {
   "base_numbering": 1,
   "nav_menu": {},
   "number_sections": true,
   "sideBar": true,
   "skip_h1_title": false,
   "title_cell": "Table of Contents",
   "title_sidebar": "Contents",
   "toc_cell": false,
   "toc_position": {
    "height": "calc(100% - 180px)",
    "left": "10px",
    "top": "150px",
    "width": "303.273px"
   },
   "toc_section_display": "block",
   "toc_window_display": false
  },
  "varInspector": {
   "cols": {
    "lenName": 16,
    "lenType": 16,
    "lenVar": 40
   },
   "kernels_config": {
    "python": {
     "delete_cmd_postfix": "",
     "delete_cmd_prefix": "del ",
     "library": "var_list.py",
     "varRefreshCmd": "print(var_dic_list())"
    },
    "r": {
     "delete_cmd_postfix": ") ",
     "delete_cmd_prefix": "rm(",
     "library": "var_list.r",
     "varRefreshCmd": "cat(var_dic_list()) "
    }
   },
   "types_to_exclude": [
    "module",
    "function",
    "builtin_function_or_method",
    "instance",
    "_Feature"
   ],
   "window_display": false
  }
 },
 "nbformat": 4,
 "nbformat_minor": 1
}
